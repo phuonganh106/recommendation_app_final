{
  "metadata": {
    "kernelspec": {
      "language": "python",
      "display_name": "Python 3",
      "name": "python3"
    },
    "language_info": {
      "name": "python",
      "version": "3.10.12",
      "mimetype": "text/x-python",
      "codemirror_mode": {
        "name": "ipython",
        "version": 3
      },
      "pygments_lexer": "ipython3",
      "nbconvert_exporter": "python",
      "file_extension": ".py"
    },
    "kaggle": {
      "accelerator": "nvidiaTeslaT4",
      "dataSources": [
        {
          "sourceId": 11264962,
          "sourceType": "datasetVersion",
          "datasetId": 7041280
        },
        {
          "sourceId": 11266608,
          "sourceType": "datasetVersion",
          "datasetId": 7042533
        }
      ],
      "dockerImageVersionId": 30919,
      "isInternetEnabled": true,
      "language": "python",
      "sourceType": "notebook",
      "isGpuEnabled": true
    },
    "colab": {
      "provenance": []
    }
  },
  "nbformat_minor": 0,
  "nbformat": 4,
  "cells": [
    {
      "cell_type": "code",
      "source": [
        "# Import library\n",
        "import pandas as pd\n",
        "import numpy as np\n",
        "import matplotlib.pyplot as plt\n",
        "import seaborn as sns\n",
        "import plotly.express as px\n",
        "import plotly.graph_objects as go\n",
        "from datetime import datetime"
      ],
      "metadata": {
        "_uuid": "8f2839f25d086af736a60e9eeb907d3b93b6e0e5",
        "_cell_guid": "b1076dfc-b9ad-4769-8c92-a6c4dae69d19",
        "trusted": true,
        "execution": {
          "iopub.status.busy": "2025-04-03T15:21:49.452248Z",
          "iopub.execute_input": "2025-04-03T15:21:49.452477Z",
          "iopub.status.idle": "2025-04-03T15:21:51.909544Z",
          "shell.execute_reply.started": "2025-04-03T15:21:49.452455Z",
          "shell.execute_reply": "2025-04-03T15:21:51.908544Z"
        },
        "id": "VwYJ3_FzfiBW"
      },
      "outputs": [],
      "execution_count": null
    },
    {
      "cell_type": "code",
      "source": [
        "ratings = pd.read_csv('/kaggle/input/ratings/Products_ThoiTrangNam_rating_raw.csv', header=0, sep=\"\\t\")\n",
        "ratings.info()"
      ],
      "metadata": {
        "trusted": true,
        "execution": {
          "iopub.status.busy": "2025-04-03T15:21:52.988093Z",
          "iopub.execute_input": "2025-04-03T15:21:52.988392Z",
          "iopub.status.idle": "2025-04-03T15:21:53.701137Z",
          "shell.execute_reply.started": "2025-04-03T15:21:52.988370Z",
          "shell.execute_reply": "2025-04-03T15:21:53.699945Z"
        },
        "id": "lBj_2gw1fiBY",
        "outputId": "579d8976-cd27-4543-c463-d4111c520cc4"
      },
      "outputs": [
        {
          "name": "stdout",
          "text": "<class 'pandas.core.frame.DataFrame'>\nRangeIndex: 1024482 entries, 0 to 1024481\nData columns (total 4 columns):\n #   Column      Non-Null Count    Dtype \n---  ------      --------------    ----- \n 0   product_id  1024482 non-null  int64 \n 1   user_id     1024482 non-null  int64 \n 2   user        1024482 non-null  object\n 3   rating      1024482 non-null  int64 \ndtypes: int64(3), object(1)\nmemory usage: 31.3+ MB\n",
          "output_type": "stream"
        }
      ],
      "execution_count": null
    },
    {
      "cell_type": "code",
      "source": [
        "ratings.head()"
      ],
      "metadata": {
        "trusted": true,
        "execution": {
          "iopub.status.busy": "2025-04-03T15:21:53.701996Z",
          "iopub.execute_input": "2025-04-03T15:21:53.702337Z",
          "iopub.status.idle": "2025-04-03T15:21:53.710074Z",
          "shell.execute_reply.started": "2025-04-03T15:21:53.702297Z",
          "shell.execute_reply": "2025-04-03T15:21:53.709251Z"
        },
        "id": "e8F-oefVfiBZ",
        "outputId": "f6d2f6c0-d14f-4952-9a33-d8f1289af4f8"
      },
      "outputs": [
        {
          "execution_count": 5,
          "output_type": "execute_result",
          "data": {
            "text/plain": "   product_id  user_id                user  rating\n0         190        1        karmakyun2nd       5\n1         190        2    tranquangvinh_vv       5\n2         190        3  nguyenquoctoan2005       5\n3         190        4      nguyenthuyhavi       5\n4         190        5        luonganh5595       5",
            "text/html": "<div>\n<style scoped>\n    .dataframe tbody tr th:only-of-type {\n        vertical-align: middle;\n    }\n\n    .dataframe tbody tr th {\n        vertical-align: top;\n    }\n\n    .dataframe thead th {\n        text-align: right;\n    }\n</style>\n<table border=\"1\" class=\"dataframe\">\n  <thead>\n    <tr style=\"text-align: right;\">\n      <th></th>\n      <th>product_id</th>\n      <th>user_id</th>\n      <th>user</th>\n      <th>rating</th>\n    </tr>\n  </thead>\n  <tbody>\n    <tr>\n      <th>0</th>\n      <td>190</td>\n      <td>1</td>\n      <td>karmakyun2nd</td>\n      <td>5</td>\n    </tr>\n    <tr>\n      <th>1</th>\n      <td>190</td>\n      <td>2</td>\n      <td>tranquangvinh_vv</td>\n      <td>5</td>\n    </tr>\n    <tr>\n      <th>2</th>\n      <td>190</td>\n      <td>3</td>\n      <td>nguyenquoctoan2005</td>\n      <td>5</td>\n    </tr>\n    <tr>\n      <th>3</th>\n      <td>190</td>\n      <td>4</td>\n      <td>nguyenthuyhavi</td>\n      <td>5</td>\n    </tr>\n    <tr>\n      <th>4</th>\n      <td>190</td>\n      <td>5</td>\n      <td>luonganh5595</td>\n      <td>5</td>\n    </tr>\n  </tbody>\n</table>\n</div>"
          },
          "metadata": {}
        }
      ],
      "execution_count": null
    },
    {
      "cell_type": "code",
      "source": [
        "# Check duplicates\n",
        "ratings.duplicated().value_counts()"
      ],
      "metadata": {
        "trusted": true,
        "execution": {
          "iopub.status.busy": "2025-04-03T15:21:53.710850Z",
          "iopub.execute_input": "2025-04-03T15:21:53.711066Z",
          "iopub.status.idle": "2025-04-03T15:21:54.050674Z",
          "shell.execute_reply.started": "2025-04-03T15:21:53.711048Z",
          "shell.execute_reply": "2025-04-03T15:21:54.049653Z"
        },
        "id": "GBvyoO3dfiBa",
        "outputId": "3bd93de7-e8e0-460f-ad0e-ccfbb85fdee4"
      },
      "outputs": [
        {
          "execution_count": 6,
          "output_type": "execute_result",
          "data": {
            "text/plain": "False    999815\nTrue      24667\nName: count, dtype: int64"
          },
          "metadata": {}
        }
      ],
      "execution_count": null
    },
    {
      "cell_type": "code",
      "source": [
        "ratings.drop_duplicates(inplace=True)\n",
        "ratings.info()"
      ],
      "metadata": {
        "trusted": true,
        "execution": {
          "iopub.status.busy": "2025-04-03T15:21:54.051630Z",
          "iopub.execute_input": "2025-04-03T15:21:54.051856Z",
          "iopub.status.idle": "2025-04-03T15:21:54.397653Z",
          "shell.execute_reply.started": "2025-04-03T15:21:54.051838Z",
          "shell.execute_reply": "2025-04-03T15:21:54.396557Z"
        },
        "id": "fYEM1ckyfiBb",
        "outputId": "c1b15cdb-e89f-4c4c-8cd7-453dfdac5625"
      },
      "outputs": [
        {
          "name": "stdout",
          "text": "<class 'pandas.core.frame.DataFrame'>\nIndex: 999815 entries, 0 to 1024481\nData columns (total 4 columns):\n #   Column      Non-Null Count   Dtype \n---  ------      --------------   ----- \n 0   product_id  999815 non-null  int64 \n 1   user_id     999815 non-null  int64 \n 2   user        999815 non-null  object\n 3   rating      999815 non-null  int64 \ndtypes: int64(3), object(1)\nmemory usage: 38.1+ MB\n",
          "output_type": "stream"
        }
      ],
      "execution_count": null
    },
    {
      "cell_type": "code",
      "source": [
        "ratings['rating'].value_counts()"
      ],
      "metadata": {
        "trusted": true,
        "execution": {
          "iopub.status.busy": "2025-04-03T15:21:54.398685Z",
          "iopub.execute_input": "2025-04-03T15:21:54.399044Z",
          "iopub.status.idle": "2025-04-03T15:21:54.411997Z",
          "shell.execute_reply.started": "2025-04-03T15:21:54.399006Z",
          "shell.execute_reply": "2025-04-03T15:21:54.411226Z"
        },
        "id": "bo5gnrBXfiBb",
        "outputId": "0f5ed6b3-e8ef-4b5c-ee68-bbde33731727"
      },
      "outputs": [
        {
          "execution_count": 8,
          "output_type": "execute_result",
          "data": {
            "text/plain": "rating\n5    755695\n4    116961\n3     62461\n1     40822\n2     23876\nName: count, dtype: int64"
          },
          "metadata": {}
        }
      ],
      "execution_count": null
    },
    {
      "cell_type": "code",
      "source": [
        "# Rating distribution\n",
        "plt.figure(figsize=(10, 6))\n",
        "sns.countplot(x='rating', data=ratings)\n",
        "plt.title('Rating distribution')\n",
        "plt.show()"
      ],
      "metadata": {
        "trusted": true,
        "execution": {
          "iopub.status.busy": "2025-04-03T15:21:55.847715Z",
          "iopub.execute_input": "2025-04-03T15:21:55.848025Z",
          "iopub.status.idle": "2025-04-03T15:21:56.157619Z",
          "shell.execute_reply.started": "2025-04-03T15:21:55.848000Z",
          "shell.execute_reply": "2025-04-03T15:21:56.156597Z"
        },
        "id": "uWhK1BxGfiBc",
        "outputId": "a29280cb-0619-466a-fcb1-2232d5702c9a"
      },
      "outputs": [
        {
          "output_type": "display_data",
          "data": {
            "text/plain": "<Figure size 1000x600 with 1 Axes>",
            "image/png": "[encoded data removed]"
          },
          "metadata": {}
        }
      ],
      "execution_count": null
    },
    {
      "cell_type": "code",
      "source": [
        "print(f\"Tổng số đánh giá: {len(ratings):,}\")\n",
        "print(f\"Số user duy nhất: {ratings['user_id'].nunique():,}\")\n",
        "print(f\"Số sản phẩm được đánh giá: {ratings['product_id'].nunique():,}\")"
      ],
      "metadata": {
        "trusted": true,
        "execution": {
          "iopub.status.busy": "2025-04-03T15:21:56.796967Z",
          "iopub.execute_input": "2025-04-03T15:21:56.797314Z",
          "iopub.status.idle": "2025-04-03T15:21:56.846549Z",
          "shell.execute_reply.started": "2025-04-03T15:21:56.797286Z",
          "shell.execute_reply": "2025-04-03T15:21:56.845442Z"
        },
        "id": "764k0o_1fiBc",
        "outputId": "579f27a5-e024-44ed-e71a-d6772d45b396"
      },
      "outputs": [
        {
          "name": "stdout",
          "text": "Tổng số đánh giá: 999,815\nSố user duy nhất: 650,636\nSố sản phẩm được đánh giá: 31,267\n",
          "output_type": "stream"
        }
      ],
      "execution_count": null
    },
    {
      "cell_type": "code",
      "source": [
        "print(f\"Số lượng đánh giá ít nhất cho một sản phẩm: {ratings['product_id'].value_counts().min()}\")\n",
        "print(f\"Số lượng đánh giá nhiều nhất cho một sản phẩm: {ratings['product_id'].value_counts().max()}\")\n",
        "print(f\"Số lượng 1 người đánh giá ít nhất bao nhiều sản phẩm: {ratings['user_id'].value_counts().min()}\")\n",
        "print(f\"Số lượng 1 người đánh giá nhiều nhất bao nhiều sản phẩm: {ratings['user_id'].value_counts().max()}\")"
      ],
      "metadata": {
        "trusted": true,
        "execution": {
          "iopub.status.busy": "2025-04-03T15:22:01.483969Z",
          "iopub.execute_input": "2025-04-03T15:22:01.484335Z",
          "iopub.status.idle": "2025-04-03T15:22:01.699591Z",
          "shell.execute_reply.started": "2025-04-03T15:22:01.484304Z",
          "shell.execute_reply": "2025-04-03T15:22:01.698589Z"
        },
        "id": "n__OxOJnfiBd",
        "outputId": "26591b84-1ec3-4c99-b12a-e073138c6328"
      },
      "outputs": [
        {
          "name": "stdout",
          "text": "Số lượng đánh giá ít nhất cho một sản phẩm: 1\nSố lượng đánh giá nhiều nhất cho một sản phẩm: 406\nSố lượng 1 người đánh giá ít nhất bao nhiều sản phẩm: 1\nSố lượng 1 người đánh giá nhiều nhất bao nhiều sản phẩm: 13010\n",
          "output_type": "stream"
        }
      ],
      "execution_count": null
    },
    {
      "cell_type": "code",
      "source": [
        "# Lọc users và items có ít tương tác\n",
        "min_user_ratings = 3  # Chỉ giữ users có ít nhất 3 ratings\n",
        "min_item_ratings = 5   # Chỉ giữ items có ít nhất 5 ratings\n",
        "\n",
        "# Đếm số lượng ratings mỗi user\n",
        "user_rating_counts = ratings['user_id'].value_counts()\n",
        "\n",
        "# Đếm số lượng ratings mỗi item\n",
        "item_rating_counts = ratings['product_id'].value_counts()\n",
        "\n",
        "# Lọc dữ liệu\n",
        "filtered_df = ratings[\n",
        "    ratings['user_id'].isin(user_rating_counts[user_rating_counts >= min_user_ratings].index) &\n",
        "    ratings['product_id'].isin(item_rating_counts[item_rating_counts >= min_item_ratings].index)\n",
        "]\n",
        "print(\"Kích thước sau lọc:\", filtered_df.shape)"
      ],
      "metadata": {
        "trusted": true,
        "execution": {
          "iopub.status.busy": "2025-04-03T15:22:01.872834Z",
          "iopub.execute_input": "2025-04-03T15:22:01.873125Z",
          "iopub.status.idle": "2025-04-03T15:22:02.023823Z",
          "shell.execute_reply.started": "2025-04-03T15:22:01.873102Z",
          "shell.execute_reply": "2025-04-03T15:22:02.022947Z"
        },
        "id": "7xLnQNxsfiBe",
        "outputId": "424c96d6-1bda-424a-d149-84818fdde411"
      },
      "outputs": [
        {
          "name": "stdout",
          "text": "Kích thước sau lọc: (298151, 4)\n",
          "output_type": "stream"
        }
      ],
      "execution_count": null
    },
    {
      "cell_type": "code",
      "source": [
        "# Phân phối rating hiện tại\n",
        "filtered_df['rating'].value_counts()"
      ],
      "metadata": {
        "trusted": true,
        "execution": {
          "iopub.status.busy": "2025-04-03T15:22:02.347100Z",
          "iopub.execute_input": "2025-04-03T15:22:02.347442Z",
          "iopub.status.idle": "2025-04-03T15:22:02.355683Z",
          "shell.execute_reply.started": "2025-04-03T15:22:02.347415Z",
          "shell.execute_reply": "2025-04-03T15:22:02.354643Z"
        },
        "id": "CkHAlbACfiBe",
        "outputId": "a52dc9ab-59c5-4343-a15c-7661647e67da"
      },
      "outputs": [
        {
          "execution_count": 13,
          "output_type": "execute_result",
          "data": {
            "text/plain": "rating\n5    230371\n4     31217\n3     16311\n1     12734\n2      7518\nName: count, dtype: int64"
          },
          "metadata": {}
        }
      ],
      "execution_count": null
    },
    {
      "cell_type": "code",
      "source": [
        "# Downsampling rating 5 sao\n",
        "rating_5 = filtered_df[filtered_df['rating'] == 5].sample(n=100000, random_state=42)\n",
        "other_ratings = filtered_df[filtered_df['rating'] != 5]"
      ],
      "metadata": {
        "trusted": true,
        "execution": {
          "iopub.status.busy": "2025-04-03T15:22:06.767412Z",
          "iopub.execute_input": "2025-04-03T15:22:06.767709Z",
          "iopub.status.idle": "2025-04-03T15:22:06.802773Z",
          "shell.execute_reply.started": "2025-04-03T15:22:06.767689Z",
          "shell.execute_reply": "2025-04-03T15:22:06.802048Z"
        },
        "id": "3iRHUacGfiBf"
      },
      "outputs": [],
      "execution_count": null
    },
    {
      "cell_type": "code",
      "source": [
        "# Kết hợp lại\n",
        "balanced_df = pd.concat([rating_5, other_ratings])\n",
        "\n",
        "print(\"Phân phối rating sau cân bằng:\")\n",
        "print(balanced_df['rating'].value_counts())"
      ],
      "metadata": {
        "trusted": true,
        "execution": {
          "iopub.status.busy": "2025-04-03T15:22:07.669901Z",
          "iopub.execute_input": "2025-04-03T15:22:07.670264Z",
          "iopub.status.idle": "2025-04-03T15:22:07.682776Z",
          "shell.execute_reply.started": "2025-04-03T15:22:07.670235Z",
          "shell.execute_reply": "2025-04-03T15:22:07.681763Z"
        },
        "id": "4xUTyoHwfiBf",
        "outputId": "97c862ff-a50f-4a84-bdc7-6a07f78a169c"
      },
      "outputs": [
        {
          "name": "stdout",
          "text": "Phân phối rating sau cân bằng:\nrating\n5    100000\n4     31217\n3     16311\n1     12734\n2      7518\nName: count, dtype: int64\n",
          "output_type": "stream"
        }
      ],
      "execution_count": null
    },
    {
      "cell_type": "code",
      "source": [
        "balanced_df"
      ],
      "metadata": {
        "trusted": true,
        "execution": {
          "iopub.status.busy": "2025-04-03T15:22:11.120891Z",
          "iopub.execute_input": "2025-04-03T15:22:11.121238Z",
          "iopub.status.idle": "2025-04-03T15:22:11.132079Z",
          "shell.execute_reply.started": "2025-04-03T15:22:11.121190Z",
          "shell.execute_reply": "2025-04-03T15:22:11.130932Z"
        },
        "id": "Pqht-MiTfiBf",
        "outputId": "3c3325b0-6c3b-402f-aac1-c0b6b96adc15"
      },
      "outputs": [
        {
          "execution_count": 16,
          "output_type": "execute_result",
          "data": {
            "text/plain": "         product_id  user_id               user  rating\n456172        23653   159123       nguyenthai89       5\n60353         20971      486            h*****4       5\n759357        15362      199  Người dùng Shopee       5\n423446       233913      831            t*****1       5\n606430        11630      230            p*****6       5\n...             ...      ...                ...     ...\n1024098      171101    69846       hsjiuahjjjdh       3\n1024099      171101    49327            j*****o       2\n1024191      171102   602197  thuynguyen1232641       3\n1024197      171102      199  Người dùng Shopee       3\n1024352      171105      831            t*****1       4\n\n[167780 rows x 4 columns]",
            "text/html": "<div>\n<style scoped>\n    .dataframe tbody tr th:only-of-type {\n        vertical-align: middle;\n    }\n\n    .dataframe tbody tr th {\n        vertical-align: top;\n    }\n\n    .dataframe thead th {\n        text-align: right;\n    }\n</style>\n<table border=\"1\" class=\"dataframe\">\n  <thead>\n    <tr style=\"text-align: right;\">\n      <th></th>\n      <th>product_id</th>\n      <th>user_id</th>\n      <th>user</th>\n      <th>rating</th>\n    </tr>\n  </thead>\n  <tbody>\n    <tr>\n      <th>456172</th>\n      <td>23653</td>\n      <td>159123</td>\n      <td>nguyenthai89</td>\n      <td>5</td>\n    </tr>\n    <tr>\n      <th>60353</th>\n      <td>20971</td>\n      <td>486</td>\n      <td>h*****4</td>\n      <td>5</td>\n    </tr>\n    <tr>\n      <th>759357</th>\n      <td>15362</td>\n      <td>199</td>\n      <td>Người dùng Shopee</td>\n      <td>5</td>\n    </tr>\n    <tr>\n      <th>423446</th>\n      <td>233913</td>\n      <td>831</td>\n      <td>t*****1</td>\n      <td>5</td>\n    </tr>\n    <tr>\n      <th>606430</th>\n      <td>11630</td>\n      <td>230</td>\n      <td>p*****6</td>\n      <td>5</td>\n    </tr>\n    <tr>\n      <th>...</th>\n      <td>...</td>\n      <td>...</td>\n      <td>...</td>\n      <td>...</td>\n    </tr>\n    <tr>\n      <th>1024098</th>\n      <td>171101</td>\n      <td>69846</td>\n      <td>hsjiuahjjjdh</td>\n      <td>3</td>\n    </tr>\n    <tr>\n      <th>1024099</th>\n      <td>171101</td>\n      <td>49327</td>\n      <td>j*****o</td>\n      <td>2</td>\n    </tr>\n    <tr>\n      <th>1024191</th>\n      <td>171102</td>\n      <td>602197</td>\n      <td>thuynguyen1232641</td>\n      <td>3</td>\n    </tr>\n    <tr>\n      <th>1024197</th>\n      <td>171102</td>\n      <td>199</td>\n      <td>Người dùng Shopee</td>\n      <td>3</td>\n    </tr>\n    <tr>\n      <th>1024352</th>\n      <td>171105</td>\n      <td>831</td>\n      <td>t*****1</td>\n      <td>4</td>\n    </tr>\n  </tbody>\n</table>\n<p>167780 rows × 4 columns</p>\n</div>"
          },
          "metadata": {}
        }
      ],
      "execution_count": null
    },
    {
      "cell_type": "code",
      "source": [
        "n_ratings = len(balanced_df)\n",
        "n_products = len(balanced_df['product_id'].unique())\n",
        "n_users = len(balanced_df['user_id'].unique())"
      ],
      "metadata": {
        "trusted": true,
        "execution": {
          "iopub.status.busy": "2025-04-03T15:22:11.576868Z",
          "iopub.execute_input": "2025-04-03T15:22:11.577163Z",
          "iopub.status.idle": "2025-04-03T15:22:11.586155Z",
          "shell.execute_reply.started": "2025-04-03T15:22:11.577139Z",
          "shell.execute_reply": "2025-04-03T15:22:11.585273Z"
        },
        "id": "clVpTJhsfiBf"
      },
      "outputs": [],
      "execution_count": null
    },
    {
      "cell_type": "code",
      "source": [
        "display(n_ratings, n_products, n_users)"
      ],
      "metadata": {
        "trusted": true,
        "execution": {
          "iopub.status.busy": "2025-04-03T15:22:14.117333Z",
          "iopub.execute_input": "2025-04-03T15:22:14.117667Z",
          "iopub.status.idle": "2025-04-03T15:22:14.125418Z",
          "shell.execute_reply.started": "2025-04-03T15:22:14.117639Z",
          "shell.execute_reply": "2025-04-03T15:22:14.124644Z"
        },
        "id": "_bzZNK5efiBf",
        "outputId": "8d3e6588-adef-4fc2-a4b5-0ba7f9011840"
      },
      "outputs": [
        {
          "output_type": "display_data",
          "data": {
            "text/plain": "167780"
          },
          "metadata": {}
        },
        {
          "output_type": "display_data",
          "data": {
            "text/plain": "20364"
          },
          "metadata": {}
        },
        {
          "output_type": "display_data",
          "data": {
            "text/plain": "27966"
          },
          "metadata": {}
        }
      ],
      "execution_count": null
    },
    {
      "cell_type": "code",
      "source": [
        "!pip install surprise"
      ],
      "metadata": {
        "trusted": true,
        "execution": {
          "iopub.status.busy": "2025-04-03T15:22:14.487518Z",
          "iopub.execute_input": "2025-04-03T15:22:14.487794Z",
          "iopub.status.idle": "2025-04-03T15:22:19.396315Z",
          "shell.execute_reply.started": "2025-04-03T15:22:14.487773Z",
          "shell.execute_reply": "2025-04-03T15:22:19.395014Z"
        },
        "id": "UXFFLViOfiBg",
        "outputId": "0a935507-ed92-4f06-8762-2c82e9b461ea"
      },
      "outputs": [
        {
          "name": "stdout",
          "text": "Requirement already satisfied: surprise in /usr/local/lib/python3.10/dist-packages (0.1)\nRequirement already satisfied: scikit-surprise in /usr/local/lib/python3.10/dist-packages (from surprise) (1.1.4)\nRequirement already satisfied: joblib>=1.2.0 in /usr/local/lib/python3.10/dist-packages (from scikit-surprise->surprise) (1.4.2)\nRequirement already satisfied: numpy>=1.19.5 in /usr/local/lib/python3.10/dist-packages (from scikit-surprise->surprise) (1.26.4)\nRequirement already satisfied: scipy>=1.6.0 in /usr/local/lib/python3.10/dist-packages (from scikit-surprise->surprise) (1.13.1)\nRequirement already satisfied: mkl_fft in /usr/local/lib/python3.10/dist-packages (from numpy>=1.19.5->scikit-surprise->surprise) (1.3.8)\nRequirement already satisfied: mkl_random in /usr/local/lib/python3.10/dist-packages (from numpy>=1.19.5->scikit-surprise->surprise) (1.2.4)\nRequirement already satisfied: mkl_umath in /usr/local/lib/python3.10/dist-packages (from numpy>=1.19.5->scikit-surprise->surprise) (0.1.1)\nRequirement already satisfied: mkl in /usr/local/lib/python3.10/dist-packages (from numpy>=1.19.5->scikit-surprise->surprise) (2025.0.1)\nRequirement already satisfied: tbb4py in /usr/local/lib/python3.10/dist-packages (from numpy>=1.19.5->scikit-surprise->surprise) (2022.0.0)\nRequirement already satisfied: mkl-service in /usr/local/lib/python3.10/dist-packages (from numpy>=1.19.5->scikit-surprise->surprise) (2.4.1)\nRequirement already satisfied: intel-openmp>=2024 in /usr/local/lib/python3.10/dist-packages (from mkl->numpy>=1.19.5->scikit-surprise->surprise) (2024.2.0)\nRequirement already satisfied: tbb==2022.* in /usr/local/lib/python3.10/dist-packages (from mkl->numpy>=1.19.5->scikit-surprise->surprise) (2022.0.0)\nRequirement already satisfied: tcmlib==1.* in /usr/local/lib/python3.10/dist-packages (from tbb==2022.*->mkl->numpy>=1.19.5->scikit-surprise->surprise) (1.2.0)\nRequirement already satisfied: intel-cmplr-lib-rt in /usr/local/lib/python3.10/dist-packages (from mkl_umath->numpy>=1.19.5->scikit-surprise->surprise) (2024.2.0)\nRequirement already satisfied: intel-cmplr-lib-ur==2024.2.0 in /usr/local/lib/python3.10/dist-packages (from intel-openmp>=2024->mkl->numpy>=1.19.5->scikit-surprise->surprise) (2024.2.0)\n",
          "output_type": "stream"
        }
      ],
      "execution_count": null
    },
    {
      "cell_type": "code",
      "source": [
        "from surprise import *\n",
        "from surprise.model_selection.validation import cross_validate"
      ],
      "metadata": {
        "trusted": true,
        "execution": {
          "iopub.status.busy": "2025-04-03T15:22:19.397998Z",
          "iopub.execute_input": "2025-04-03T15:22:19.398374Z",
          "iopub.status.idle": "2025-04-03T15:22:19.444146Z",
          "shell.execute_reply.started": "2025-04-03T15:22:19.398347Z",
          "shell.execute_reply": "2025-04-03T15:22:19.443264Z"
        },
        "id": "tTNlfwZFfiBg"
      },
      "outputs": [],
      "execution_count": null
    },
    {
      "cell_type": "code",
      "source": [
        "reader = Reader()\n",
        "data = Dataset.load_from_df(balanced_df[['user_id', 'product_id', 'rating']], reader)"
      ],
      "metadata": {
        "trusted": true,
        "execution": {
          "iopub.status.busy": "2025-04-03T15:22:19.445524Z",
          "iopub.execute_input": "2025-04-03T15:22:19.446268Z",
          "iopub.status.idle": "2025-04-03T15:22:19.588243Z",
          "shell.execute_reply.started": "2025-04-03T15:22:19.446192Z",
          "shell.execute_reply": "2025-04-03T15:22:19.587274Z"
        },
        "id": "sxfTHrXbfiBg"
      },
      "outputs": [],
      "execution_count": null
    },
    {
      "cell_type": "code",
      "source": [
        "# Thiết lập tham số mặc định\n",
        "sim_options = {\n",
        "    'name': 'pearson_baseline',\n",
        "    'user_based': False,\n",
        "    'min_support': 5,\n",
        "    'shrinkage': 100\n",
        "}\n",
        "\n",
        "knn = KNNBasic(\n",
        "    k=30,\n",
        "    min_k=3,\n",
        "    sim_options=sim_options,\n",
        "    verbose=False\n",
        ")"
      ],
      "metadata": {
        "trusted": true,
        "execution": {
          "iopub.status.busy": "2025-04-03T15:22:20.896094Z",
          "iopub.execute_input": "2025-04-03T15:22:20.896462Z",
          "iopub.status.idle": "2025-04-03T15:22:20.900841Z",
          "shell.execute_reply.started": "2025-04-03T15:22:20.896431Z",
          "shell.execute_reply": "2025-04-03T15:22:20.899745Z"
        },
        "id": "ryLDBS94fiBg"
      },
      "outputs": [],
      "execution_count": null
    },
    {
      "cell_type": "code",
      "source": [
        "results = cross_validate(\n",
        "    knn,\n",
        "    data,\n",
        "    measures=['RMSE', 'MAE'],\n",
        "    cv=5,  # 5-fold cross-validation\n",
        "    verbose=True\n",
        ")"
      ],
      "metadata": {
        "trusted": true,
        "execution": {
          "iopub.status.busy": "2025-04-03T15:23:22.308755Z",
          "iopub.execute_input": "2025-04-03T15:23:22.309071Z",
          "iopub.status.idle": "2025-04-03T15:26:29.213508Z",
          "shell.execute_reply.started": "2025-04-03T15:23:22.309049Z",
          "shell.execute_reply": "2025-04-03T15:26:29.212419Z"
        },
        "id": "uUcMATWefiBg",
        "outputId": "28c65cfb-336d-47e7-cd13-5e9dc6dd1b56"
      },
      "outputs": [
        {
          "name": "stdout",
          "text": "Evaluating RMSE, MAE of algorithm KNNBasic on 5 split(s).\n\n                  Fold 1  Fold 2  Fold 3  Fold 4  Fold 5  Mean    Std     \nRMSE (testset)    1.2844  1.2780  1.2818  1.2872  1.2803  1.2823  0.0032  \nMAE (testset)     1.0521  1.0470  1.0490  1.0544  1.0470  1.0499  0.0029  \nFit time          27.18   27.04   26.89   26.89   27.23   27.05   0.14    \nTest time         9.93    9.88    9.86    9.89    9.83    9.88    0.03    \n",
          "output_type": "stream"
        }
      ],
      "execution_count": null
    },
    {
      "cell_type": "code",
      "source": [
        "results"
      ],
      "metadata": {
        "trusted": true,
        "execution": {
          "iopub.status.busy": "2025-04-03T15:26:49.387409Z",
          "iopub.execute_input": "2025-04-03T15:26:49.387754Z",
          "iopub.status.idle": "2025-04-03T15:26:49.395743Z",
          "shell.execute_reply.started": "2025-04-03T15:26:49.387729Z",
          "shell.execute_reply": "2025-04-03T15:26:49.394967Z"
        },
        "id": "IKKlDtuXfiBh",
        "outputId": "af009499-b17f-44c2-eb66-2965cc94827e"
      },
      "outputs": [
        {
          "execution_count": 26,
          "output_type": "execute_result",
          "data": {
            "text/plain": "{'test_rmse': array([1.2843881 , 1.27804379, 1.28179979, 1.28724015, 1.28027634]),\n 'test_mae': array([1.0521325 , 1.0470061 , 1.04904501, 1.05440252, 1.04703545]),\n 'fit_time': (27.183940410614014,\n  27.036832809448242,\n  26.893598318099976,\n  26.894986152648926,\n  27.228182554244995),\n 'test_time': (9.933596849441528,\n  9.882787704467773,\n  9.858349561691284,\n  9.888023138046265,\n  9.829805374145508)}"
          },
          "metadata": {}
        }
      ],
      "execution_count": null
    },
    {
      "cell_type": "code",
      "source": [
        "## Cấu hình tối ưu đã kiểm nghiệm (balance giữa chất lượng và tốc độ)\n",
        "optimized_config = {\n",
        "    'n_factors': 35,\n",
        "    'n_epochs': 40,\n",
        "    'lr_all': 0.0045,\n",
        "    'reg_all': 0.12,\n",
        "    'init_std_dev': 0.05,\n",
        "    'random_state': 42,\n",
        "    'verbose': False\n",
        "}\n",
        "\n",
        "## 2. Khởi tạo mô hình SVD ++\n",
        "model = SVDpp(**optimized_config)"
      ],
      "metadata": {
        "trusted": true,
        "execution": {
          "iopub.status.busy": "2025-04-03T16:20:05.530190Z",
          "iopub.execute_input": "2025-04-03T16:20:05.530628Z",
          "iopub.status.idle": "2025-04-03T16:20:05.540947Z",
          "shell.execute_reply.started": "2025-04-03T16:20:05.530600Z",
          "shell.execute_reply": "2025-04-03T16:20:05.540034Z"
        },
        "id": "haWfh9qAfiBh"
      },
      "outputs": [],
      "execution_count": null
    },
    {
      "cell_type": "code",
      "source": [
        "cv_results = cross_validate(\n",
        "    model,\n",
        "    data,\n",
        "    measures=['RMSE', 'MAE'],\n",
        "    cv=5,\n",
        "    verbose=True\n",
        ")"
      ],
      "metadata": {
        "trusted": true,
        "execution": {
          "iopub.status.busy": "2025-04-03T16:20:29.547039Z",
          "iopub.execute_input": "2025-04-03T16:20:29.547393Z",
          "iopub.status.idle": "2025-04-03T17:04:21.557158Z",
          "shell.execute_reply.started": "2025-04-03T16:20:29.547364Z",
          "shell.execute_reply": "2025-04-03T17:04:21.556222Z"
        },
        "id": "hojJOdr3fiBh",
        "outputId": "95bf7f13-b4ea-4133-9163-aac0ff6378ac"
      },
      "outputs": [
        {
          "name": "stdout",
          "text": "Evaluating RMSE, MAE of algorithm SVDpp on 5 split(s).\n\n                  Fold 1  Fold 2  Fold 3  Fold 4  Fold 5  Mean    Std     \nRMSE (testset)    1.0896  1.1173  1.0958  1.0996  1.1029  1.1010  0.0092  \nMAE (testset)     0.8293  0.8459  0.8335  0.8349  0.8388  0.8365  0.0056  \nFit time          509.77  513.47  509.82  510.39  502.11  509.11  3.76    \nTest time         16.07   17.94   17.47   17.35   16.10   16.99   0.76    \n",
          "output_type": "stream"
        }
      ],
      "execution_count": null
    },
    {
      "cell_type": "code",
      "source": [
        "cv_results"
      ],
      "metadata": {
        "trusted": true,
        "execution": {
          "iopub.status.busy": "2025-04-03T17:07:10.247339Z",
          "iopub.execute_input": "2025-04-03T17:07:10.247671Z",
          "iopub.status.idle": "2025-04-03T17:07:10.253882Z",
          "shell.execute_reply.started": "2025-04-03T17:07:10.247648Z",
          "shell.execute_reply": "2025-04-03T17:07:10.253125Z"
        },
        "id": "Q7APWwo0fiBh",
        "outputId": "e5d557f9-69e7-4905-b96b-a8e6d976b828"
      },
      "outputs": [
        {
          "execution_count": 33,
          "output_type": "execute_result",
          "data": {
            "text/plain": "{'test_rmse': array([1.08959371, 1.11727837, 1.09584656, 1.09955229, 1.10287644]),\n 'test_mae': array([0.82927676, 0.84593543, 0.8334868 , 0.83492548, 0.83880026]),\n 'fit_time': (509.77292799949646,\n  513.4726822376251,\n  509.8236119747162,\n  510.3856029510498,\n  502.10738730430603),\n 'test_time': (16.06616449356079,\n  17.94470500946045,\n  17.467593669891357,\n  17.35291600227356,\n  16.095858812332153)}"
          },
          "metadata": {}
        }
      ],
      "execution_count": null
    },
    {
      "cell_type": "code",
      "source": [
        "## 4. Hiển thị kết quả chi tiết\n",
        "print(\"\\nKết quả so sánh với KNNBasic:\")\n",
        "print(f\"{'Metric':<10} | {'KNNBasic':<10} | {'SVD++ (Optimized)':<16} | Improvement\")\n",
        "print(\"-\" * 55)\n",
        "print(f\"{'RMSE':<10} | {np.mean(results['test_rmse']):<10.4f} | {np.mean(cv_results['test_rmse']):<16.4f} | {100*(np.mean(results['test_rmse'])-np.mean(cv_results['test_rmse']))/1.2823:.1f}%\")\n",
        "print(f\"{'MAE':<10} | {np.mean(results['test_mae']):<10.4f} | {np.mean(cv_results['test_mae']):<16.4f} | {100*(np.mean(results['test_mae'])-np.mean(cv_results['test_mae']))/1.0499:.1f}%\")"
      ],
      "metadata": {
        "trusted": true,
        "execution": {
          "iopub.status.busy": "2025-04-03T17:10:46.968745Z",
          "iopub.execute_input": "2025-04-03T17:10:46.969089Z",
          "iopub.status.idle": "2025-04-03T17:10:46.976095Z",
          "shell.execute_reply.started": "2025-04-03T17:10:46.969066Z",
          "shell.execute_reply": "2025-04-03T17:10:46.975109Z"
        },
        "id": "tpLMIZw9fiBh",
        "outputId": "4cb637ca-2895-4cad-bec6-c6e89a2b209b"
      },
      "outputs": [
        {
          "name": "stdout",
          "text": "\nKết quả so sánh với KNNBasic:\nMetric     | KNNBasic   | SVD++ (Optimized) | Improvement\n-------------------------------------------------------\nRMSE       | 1.2823     | 1.1010           | 14.1%\nMAE        | 1.0499     | 0.8365           | 20.3%\n",
          "output_type": "stream"
        }
      ],
      "execution_count": null
    },
    {
      "cell_type": "code",
      "source": [
        "# 5. Huấn luyện mô hình cuối cùng trên toàn bộ dữ liệu\n",
        "print(\"\\nĐang huấn luyện mô hình cuối cùng...\")\n",
        "trainset = data.build_full_trainset()\n",
        "model.fit(trainset)"
      ],
      "metadata": {
        "trusted": true,
        "execution": {
          "iopub.status.busy": "2025-04-03T17:15:30.549822Z",
          "iopub.execute_input": "2025-04-03T17:15:30.550115Z",
          "iopub.status.idle": "2025-04-03T17:28:43.994066Z",
          "shell.execute_reply.started": "2025-04-03T17:15:30.550094Z",
          "shell.execute_reply": "2025-04-03T17:28:43.993295Z"
        },
        "id": "tokHW79lfiBi",
        "outputId": "ab2e70e4-747f-47cb-8230-3fab3066b340"
      },
      "outputs": [
        {
          "name": "stdout",
          "text": "\nĐang huấn luyện mô hình cuối cùng...\n",
          "output_type": "stream"
        },
        {
          "execution_count": 38,
          "output_type": "execute_result",
          "data": {
            "text/plain": "<surprise.prediction_algorithms.matrix_factorization.SVDpp at 0x7e67977b2410>"
          },
          "metadata": {}
        }
      ],
      "execution_count": null
    },
    {
      "cell_type": "markdown",
      "source": [
        "# Recommender for a specific user"
      ],
      "metadata": {
        "id": "2XQp1oV1fiBi"
      }
    },
    {
      "cell_type": "code",
      "source": [
        "product = pd.read_csv('/kaggle/input/product/products_not_duplicates.csv', header=0)\n",
        "product.info()"
      ],
      "metadata": {
        "trusted": true,
        "execution": {
          "iopub.status.busy": "2025-04-03T17:34:43.125640Z",
          "iopub.execute_input": "2025-04-03T17:34:43.125982Z",
          "iopub.status.idle": "2025-04-03T17:34:47.422456Z",
          "shell.execute_reply.started": "2025-04-03T17:34:43.125958Z",
          "shell.execute_reply": "2025-04-03T17:34:47.421469Z"
        },
        "id": "jzSIcgX5fiBj",
        "outputId": "4536732c-4a2f-4164-bb3f-ca368166d0c6"
      },
      "outputs": [
        {
          "name": "stdout",
          "text": "<class 'pandas.core.frame.DataFrame'>\nRangeIndex: 49653 entries, 0 to 49652\nData columns (total 9 columns):\n #   Column        Non-Null Count  Dtype  \n---  ------        --------------  -----  \n 0   product_id    49653 non-null  int64  \n 1   product_name  49653 non-null  object \n 2   category      49653 non-null  object \n 3   sub_category  49653 non-null  object \n 4   link          49653 non-null  object \n 5   image         36433 non-null  object \n 6   price         49653 non-null  float64\n 7   rating        49653 non-null  float64\n 8   description   48690 non-null  object \ndtypes: float64(2), int64(1), object(6)\nmemory usage: 3.4+ MB\n",
          "output_type": "stream"
        }
      ],
      "execution_count": null
    },
    {
      "cell_type": "code",
      "source": [
        "df = ratings.merge(product[['product_id', 'product_name', 'sub_category']], on='product_id', how='left')\n",
        "df.info()"
      ],
      "metadata": {
        "trusted": true,
        "execution": {
          "iopub.status.busy": "2025-04-03T17:36:14.729849Z",
          "iopub.execute_input": "2025-04-03T17:36:14.730189Z",
          "iopub.status.idle": "2025-04-03T17:36:15.028125Z",
          "shell.execute_reply.started": "2025-04-03T17:36:14.730164Z",
          "shell.execute_reply": "2025-04-03T17:36:15.027336Z"
        },
        "id": "JCJsgQFjfiBj",
        "outputId": "8f79cdd5-3da1-4fcc-de96-8fa03cb50665"
      },
      "outputs": [
        {
          "name": "stdout",
          "text": "<class 'pandas.core.frame.DataFrame'>\nRangeIndex: 999815 entries, 0 to 999814\nData columns (total 6 columns):\n #   Column        Non-Null Count   Dtype \n---  ------        --------------   ----- \n 0   product_id    999815 non-null  int64 \n 1   user_id       999815 non-null  int64 \n 2   user          999815 non-null  object\n 3   rating        999815 non-null  int64 \n 4   product_name  994553 non-null  object\n 5   sub_category  994553 non-null  object\ndtypes: int64(3), object(3)\nmemory usage: 45.8+ MB\n",
          "output_type": "stream"
        }
      ],
      "execution_count": null
    },
    {
      "cell_type": "code",
      "source": [
        "userId = 831\n",
        "df_select = df[(df['user_id'] == userId) & (df['rating'] ==5)]\n",
        "df_select = df_select[[\n",
        "    'product_id',\n",
        "    'product_name',\n",
        "    'sub_category',\n",
        "    'rating',\n",
        "    'user'\n",
        "]]\n",
        "\n",
        "df_select = df_select.set_index('product_id')\n",
        "df_select.head(df_select.shape[0])"
      ],
      "metadata": {
        "trusted": true,
        "execution": {
          "iopub.status.busy": "2025-04-03T17:43:05.930675Z",
          "iopub.execute_input": "2025-04-03T17:43:05.930967Z",
          "iopub.status.idle": "2025-04-03T17:43:05.949198Z",
          "shell.execute_reply.started": "2025-04-03T17:43:05.930947Z",
          "shell.execute_reply": "2025-04-03T17:43:05.948305Z"
        },
        "id": "4ih2xMSgfiBk",
        "outputId": "c44ef5bf-0796-4676-c500-89da99fb42fa"
      },
      "outputs": [
        {
          "execution_count": 50,
          "output_type": "execute_result",
          "data": {
            "text/plain": "                                                 product_name sub_category  \\\nproduct_id                                                                   \n1910        Áo Ba Lỗ Nam Cao Cấp Aristino Thun 3 Lỗ Lót Tr...     Áo Ba Lỗ   \n1913        Áo Sát Nách Nam Cotton 5S (6 màu), Kiểu Dáng T...     Áo Ba Lỗ   \n1914        Áo Ba Lỗ Sát Nách TankTop Nam Nữ Vải Cotton 10...     Áo Ba Lỗ   \n1915        40-105kg áo 3 lỗ/tanktop/sát nách nam nữ thời ...     Áo Ba Lỗ   \n1920        Áo Ba Lỗ Sát Nách Nam Tập Gym Thể Thao Cao Cấp...     Áo Ba Lỗ   \n...                                                       ...          ...   \n171061      TẤT(VỚ) thổ cẩm cao cổ cho nam chất liệu len c...       Vớ/Tất   \n171079      Tất nam cổ cao TIMAN TNS06 kháng khuẩn khử mùi...       Vớ/Tất   \n171084      Tất cổ cao nam nữ METAT, vớ cao cổ len lông cừ...       Vớ/Tất   \n171093                                         Vớ trơn đủ màu       Vớ/Tất   \n171100      Combo 10 Đôi Tất Trơn Cổ Ngắn Unisex Nam Nữ NU...       Vớ/Tất   \n\n            rating     user  \nproduct_id                   \n1910             5  t*****1  \n1913             5  t*****1  \n1914             5  t*****1  \n1915             5  t*****1  \n1920             5  t*****1  \n...            ...      ...  \n171061           5  t*****1  \n171079           5  t*****1  \n171084           5  t*****1  \n171093           5  t*****1  \n171100           5  t*****1  \n\n[1724 rows x 4 columns]",
            "text/html": "<div>\n<style scoped>\n    .dataframe tbody tr th:only-of-type {\n        vertical-align: middle;\n    }\n\n    .dataframe tbody tr th {\n        vertical-align: top;\n    }\n\n    .dataframe thead th {\n        text-align: right;\n    }\n</style>\n<table border=\"1\" class=\"dataframe\">\n  <thead>\n    <tr style=\"text-align: right;\">\n      <th></th>\n      <th>product_name</th>\n      <th>sub_category</th>\n      <th>rating</th>\n      <th>user</th>\n    </tr>\n    <tr>\n      <th>product_id</th>\n      <th></th>\n      <th></th>\n      <th></th>\n      <th></th>\n    </tr>\n  </thead>\n  <tbody>\n    <tr>\n      <th>1910</th>\n      <td>Áo Ba Lỗ Nam Cao Cấp Aristino Thun 3 Lỗ Lót Tr...</td>\n      <td>Áo Ba Lỗ</td>\n      <td>5</td>\n      <td>t*****1</td>\n    </tr>\n    <tr>\n      <th>1913</th>\n      <td>Áo Sát Nách Nam Cotton 5S (6 màu), Kiểu Dáng T...</td>\n      <td>Áo Ba Lỗ</td>\n      <td>5</td>\n      <td>t*****1</td>\n    </tr>\n    <tr>\n      <th>1914</th>\n      <td>Áo Ba Lỗ Sát Nách TankTop Nam Nữ Vải Cotton 10...</td>\n      <td>Áo Ba Lỗ</td>\n      <td>5</td>\n      <td>t*****1</td>\n    </tr>\n    <tr>\n      <th>1915</th>\n      <td>40-105kg áo 3 lỗ/tanktop/sát nách nam nữ thời ...</td>\n      <td>Áo Ba Lỗ</td>\n      <td>5</td>\n      <td>t*****1</td>\n    </tr>\n    <tr>\n      <th>1920</th>\n      <td>Áo Ba Lỗ Sát Nách Nam Tập Gym Thể Thao Cao Cấp...</td>\n      <td>Áo Ba Lỗ</td>\n      <td>5</td>\n      <td>t*****1</td>\n    </tr>\n    <tr>\n      <th>...</th>\n      <td>...</td>\n      <td>...</td>\n      <td>...</td>\n      <td>...</td>\n    </tr>\n    <tr>\n      <th>171061</th>\n      <td>TẤT(VỚ) thổ cẩm cao cổ cho nam chất liệu len c...</td>\n      <td>Vớ/Tất</td>\n      <td>5</td>\n      <td>t*****1</td>\n    </tr>\n    <tr>\n      <th>171079</th>\n      <td>Tất nam cổ cao TIMAN TNS06 kháng khuẩn khử mùi...</td>\n      <td>Vớ/Tất</td>\n      <td>5</td>\n      <td>t*****1</td>\n    </tr>\n    <tr>\n      <th>171084</th>\n      <td>Tất cổ cao nam nữ METAT, vớ cao cổ len lông cừ...</td>\n      <td>Vớ/Tất</td>\n      <td>5</td>\n      <td>t*****1</td>\n    </tr>\n    <tr>\n      <th>171093</th>\n      <td>Vớ trơn đủ màu</td>\n      <td>Vớ/Tất</td>\n      <td>5</td>\n      <td>t*****1</td>\n    </tr>\n    <tr>\n      <th>171100</th>\n      <td>Combo 10 Đôi Tất Trơn Cổ Ngắn Unisex Nam Nữ NU...</td>\n      <td>Vớ/Tất</td>\n      <td>5</td>\n      <td>t*****1</td>\n    </tr>\n  </tbody>\n</table>\n<p>1724 rows × 4 columns</p>\n</div>"
          },
          "metadata": {}
        }
      ],
      "execution_count": null
    },
    {
      "cell_type": "code",
      "source": [
        "df_select.shape"
      ],
      "metadata": {
        "trusted": true,
        "execution": {
          "iopub.status.busy": "2025-04-03T17:43:11.127937Z",
          "iopub.execute_input": "2025-04-03T17:43:11.128267Z",
          "iopub.status.idle": "2025-04-03T17:43:11.133405Z",
          "shell.execute_reply.started": "2025-04-03T17:43:11.128241Z",
          "shell.execute_reply": "2025-04-03T17:43:11.132376Z"
        },
        "id": "wEmtj7YBfiBk",
        "outputId": "b62e569c-d177-4e4b-e569-3895e552f447"
      },
      "outputs": [
        {
          "execution_count": 51,
          "output_type": "execute_result",
          "data": {
            "text/plain": "(1724, 4)"
          },
          "metadata": {}
        }
      ],
      "execution_count": null
    },
    {
      "cell_type": "code",
      "source": [
        "userId2 = 486\n",
        "df_select2 = df[(df['user_id'] == userId2) & (df['rating'] ==5)]\n",
        "df_select2 = df_select2[[\n",
        "    'product_id',\n",
        "    'rating',\n",
        "    'user'\n",
        "]]\n",
        "\n",
        "# df_select2 = df_select2.set_index('product_id')\n",
        "df_select2.head(df_select2.shape[0])"
      ],
      "metadata": {
        "trusted": true,
        "execution": {
          "iopub.status.busy": "2025-04-03T17:48:45.910069Z",
          "iopub.execute_input": "2025-04-03T17:48:45.910415Z",
          "iopub.status.idle": "2025-04-03T17:48:45.924791Z",
          "shell.execute_reply.started": "2025-04-03T17:48:45.910383Z",
          "shell.execute_reply": "2025-04-03T17:48:45.924001Z"
        },
        "id": "WOrbxQ_ZfiBk",
        "outputId": "10c2bc51-4eb2-4dc9-cfa2-5d39c379b594"
      },
      "outputs": [
        {
          "execution_count": 54,
          "output_type": "execute_result",
          "data": {
            "text/plain": "        product_id  rating     user\n3093          1929       5  h*****4\n4204          1946       5  h*****4\n4271          1948       5  h*****4\n5518          1971       5  h*****4\n9145         19170       5  h*****4\n...            ...     ...      ...\n993294       17997       5  h*****4\n993585      171000       5  h*****4\n994720      171020       5  h*****4\n996431      171045       5  h*****4\n998164      171079       5  h*****4\n\n[885 rows x 3 columns]",
            "text/html": "<div>\n<style scoped>\n    .dataframe tbody tr th:only-of-type {\n        vertical-align: middle;\n    }\n\n    .dataframe tbody tr th {\n        vertical-align: top;\n    }\n\n    .dataframe thead th {\n        text-align: right;\n    }\n</style>\n<table border=\"1\" class=\"dataframe\">\n  <thead>\n    <tr style=\"text-align: right;\">\n      <th></th>\n      <th>product_id</th>\n      <th>rating</th>\n      <th>user</th>\n    </tr>\n  </thead>\n  <tbody>\n    <tr>\n      <th>3093</th>\n      <td>1929</td>\n      <td>5</td>\n      <td>h*****4</td>\n    </tr>\n    <tr>\n      <th>4204</th>\n      <td>1946</td>\n      <td>5</td>\n      <td>h*****4</td>\n    </tr>\n    <tr>\n      <th>4271</th>\n      <td>1948</td>\n      <td>5</td>\n      <td>h*****4</td>\n    </tr>\n    <tr>\n      <th>5518</th>\n      <td>1971</td>\n      <td>5</td>\n      <td>h*****4</td>\n    </tr>\n    <tr>\n      <th>9145</th>\n      <td>19170</td>\n      <td>5</td>\n      <td>h*****4</td>\n    </tr>\n    <tr>\n      <th>...</th>\n      <td>...</td>\n      <td>...</td>\n      <td>...</td>\n    </tr>\n    <tr>\n      <th>993294</th>\n      <td>17997</td>\n      <td>5</td>\n      <td>h*****4</td>\n    </tr>\n    <tr>\n      <th>993585</th>\n      <td>171000</td>\n      <td>5</td>\n      <td>h*****4</td>\n    </tr>\n    <tr>\n      <th>994720</th>\n      <td>171020</td>\n      <td>5</td>\n      <td>h*****4</td>\n    </tr>\n    <tr>\n      <th>996431</th>\n      <td>171045</td>\n      <td>5</td>\n      <td>h*****4</td>\n    </tr>\n    <tr>\n      <th>998164</th>\n      <td>171079</td>\n      <td>5</td>\n      <td>h*****4</td>\n    </tr>\n  </tbody>\n</table>\n<p>885 rows × 3 columns</p>\n</div>"
          },
          "metadata": {}
        }
      ],
      "execution_count": null
    },
    {
      "cell_type": "code",
      "source": [
        "df_select2.duplicated().value_counts()"
      ],
      "metadata": {
        "trusted": true,
        "execution": {
          "iopub.status.busy": "2025-04-03T17:49:29.048604Z",
          "iopub.execute_input": "2025-04-03T17:49:29.048906Z",
          "iopub.status.idle": "2025-04-03T17:49:29.086610Z",
          "shell.execute_reply.started": "2025-04-03T17:49:29.048886Z",
          "shell.execute_reply": "2025-04-03T17:49:29.085707Z"
        },
        "id": "52hnEbZgfiBk",
        "outputId": "6e4e56eb-d837-4e11-fef9-9f262dfd6d0d"
      },
      "outputs": [
        {
          "execution_count": 55,
          "output_type": "execute_result",
          "data": {
            "text/plain": "False    885\nName: count, dtype: int64"
          },
          "metadata": {}
        }
      ],
      "execution_count": null
    },
    {
      "cell_type": "code",
      "source": [
        "df_score = df[['product_id']]\n",
        "df_score"
      ],
      "metadata": {
        "trusted": true,
        "execution": {
          "iopub.status.busy": "2025-04-03T17:43:43.172258Z",
          "iopub.execute_input": "2025-04-03T17:43:43.172567Z",
          "iopub.status.idle": "2025-04-03T17:43:43.182163Z",
          "shell.execute_reply.started": "2025-04-03T17:43:43.172546Z",
          "shell.execute_reply": "2025-04-03T17:43:43.181444Z"
        },
        "id": "lIgoRK7TfiBk",
        "outputId": "28a12a26-218d-40f7-cb8f-000dea0cee4e"
      },
      "outputs": [
        {
          "execution_count": 52,
          "output_type": "execute_result",
          "data": {
            "text/plain": "        product_id\n0              190\n1              190\n2              190\n3              190\n4              190\n...            ...\n999810      171107\n999811      171107\n999812      171107\n999813      171107\n999814      171107\n\n[999815 rows x 1 columns]",
            "text/html": "<div>\n<style scoped>\n    .dataframe tbody tr th:only-of-type {\n        vertical-align: middle;\n    }\n\n    .dataframe tbody tr th {\n        vertical-align: top;\n    }\n\n    .dataframe thead th {\n        text-align: right;\n    }\n</style>\n<table border=\"1\" class=\"dataframe\">\n  <thead>\n    <tr style=\"text-align: right;\">\n      <th></th>\n      <th>product_id</th>\n    </tr>\n  </thead>\n  <tbody>\n    <tr>\n      <th>0</th>\n      <td>190</td>\n    </tr>\n    <tr>\n      <th>1</th>\n      <td>190</td>\n    </tr>\n    <tr>\n      <th>2</th>\n      <td>190</td>\n    </tr>\n    <tr>\n      <th>3</th>\n      <td>190</td>\n    </tr>\n    <tr>\n      <th>4</th>\n      <td>190</td>\n    </tr>\n    <tr>\n      <th>...</th>\n      <td>...</td>\n    </tr>\n    <tr>\n      <th>999810</th>\n      <td>171107</td>\n    </tr>\n    <tr>\n      <th>999811</th>\n      <td>171107</td>\n    </tr>\n    <tr>\n      <th>999812</th>\n      <td>171107</td>\n    </tr>\n    <tr>\n      <th>999813</th>\n      <td>171107</td>\n    </tr>\n    <tr>\n      <th>999814</th>\n      <td>171107</td>\n    </tr>\n  </tbody>\n</table>\n<p>999815 rows × 1 columns</p>\n</div>"
          },
          "metadata": {}
        }
      ],
      "execution_count": null
    },
    {
      "cell_type": "code",
      "source": [
        "df_score = df_score.drop_duplicates()\n",
        "df_score"
      ],
      "metadata": {
        "trusted": true,
        "execution": {
          "iopub.status.busy": "2025-04-03T18:11:32.327008Z",
          "iopub.execute_input": "2025-04-03T18:11:32.327473Z",
          "iopub.status.idle": "2025-04-03T18:11:32.355044Z",
          "shell.execute_reply.started": "2025-04-03T18:11:32.327434Z",
          "shell.execute_reply": "2025-04-03T18:11:32.354182Z"
        },
        "id": "eoXucifFfiBl",
        "outputId": "87a6fb03-d53a-4344-bb2a-670f5c4257af"
      },
      "outputs": [
        {
          "execution_count": 58,
          "output_type": "execute_result",
          "data": {
            "text/plain": "        product_id\n0              190\n184            191\n334            192\n523            193\n719            194\n...            ...\n999533      171103\n999574      171104\n999605      171105\n999689      171106\n999767      171107\n\n[31267 rows x 1 columns]",
            "text/html": "<div>\n<style scoped>\n    .dataframe tbody tr th:only-of-type {\n        vertical-align: middle;\n    }\n\n    .dataframe tbody tr th {\n        vertical-align: top;\n    }\n\n    .dataframe thead th {\n        text-align: right;\n    }\n</style>\n<table border=\"1\" class=\"dataframe\">\n  <thead>\n    <tr style=\"text-align: right;\">\n      <th></th>\n      <th>product_id</th>\n    </tr>\n  </thead>\n  <tbody>\n    <tr>\n      <th>0</th>\n      <td>190</td>\n    </tr>\n    <tr>\n      <th>184</th>\n      <td>191</td>\n    </tr>\n    <tr>\n      <th>334</th>\n      <td>192</td>\n    </tr>\n    <tr>\n      <th>523</th>\n      <td>193</td>\n    </tr>\n    <tr>\n      <th>719</th>\n      <td>194</td>\n    </tr>\n    <tr>\n      <th>...</th>\n      <td>...</td>\n    </tr>\n    <tr>\n      <th>999533</th>\n      <td>171103</td>\n    </tr>\n    <tr>\n      <th>999574</th>\n      <td>171104</td>\n    </tr>\n    <tr>\n      <th>999605</th>\n      <td>171105</td>\n    </tr>\n    <tr>\n      <th>999689</th>\n      <td>171106</td>\n    </tr>\n    <tr>\n      <th>999767</th>\n      <td>171107</td>\n    </tr>\n  </tbody>\n</table>\n<p>31267 rows × 1 columns</p>\n</div>"
          },
          "metadata": {}
        }
      ],
      "execution_count": null
    },
    {
      "cell_type": "code",
      "source": [
        "# Evaluated\n",
        "df_score['EstimateScore'] = df_score['product_id'].apply(lambda x: model.predict(userId, x).est)\n",
        "df_score = df_score.sort_values(by=['EstimateScore'], ascending=False)"
      ],
      "metadata": {
        "trusted": true,
        "execution": {
          "iopub.status.busy": "2025-04-03T18:20:43.423867Z",
          "iopub.execute_input": "2025-04-03T18:20:43.424257Z",
          "iopub.status.idle": "2025-04-03T18:21:11.381621Z",
          "shell.execute_reply.started": "2025-04-03T18:20:43.424232Z",
          "shell.execute_reply": "2025-04-03T18:21:11.380561Z"
        },
        "id": "z2OkgD_FfiBl"
      },
      "outputs": [],
      "execution_count": null
    },
    {
      "cell_type": "code",
      "source": [
        "df_score.head()"
      ],
      "metadata": {
        "trusted": true,
        "execution": {
          "iopub.status.busy": "2025-04-03T18:21:14.545245Z",
          "iopub.execute_input": "2025-04-03T18:21:14.545635Z",
          "iopub.status.idle": "2025-04-03T18:21:14.554293Z",
          "shell.execute_reply.started": "2025-04-03T18:21:14.545588Z",
          "shell.execute_reply": "2025-04-03T18:21:14.553591Z"
        },
        "id": "UPlBjoa-fiBl",
        "outputId": "a49df89e-3de2-4974-da3e-9af4d45fe0bd"
      },
      "outputs": [
        {
          "execution_count": 69,
          "output_type": "execute_result",
          "data": {
            "text/plain": "        product_id  EstimateScore\n449443       23707       4.307558\n32347        20209       4.298078\n870504       17305       4.255983\n801705       14577       4.254552\n861069       17205       4.249320",
            "text/html": "<div>\n<style scoped>\n    .dataframe tbody tr th:only-of-type {\n        vertical-align: middle;\n    }\n\n    .dataframe tbody tr th {\n        vertical-align: top;\n    }\n\n    .dataframe thead th {\n        text-align: right;\n    }\n</style>\n<table border=\"1\" class=\"dataframe\">\n  <thead>\n    <tr style=\"text-align: right;\">\n      <th></th>\n      <th>product_id</th>\n      <th>EstimateScore</th>\n    </tr>\n  </thead>\n  <tbody>\n    <tr>\n      <th>449443</th>\n      <td>23707</td>\n      <td>4.307558</td>\n    </tr>\n    <tr>\n      <th>32347</th>\n      <td>20209</td>\n      <td>4.298078</td>\n    </tr>\n    <tr>\n      <th>870504</th>\n      <td>17305</td>\n      <td>4.255983</td>\n    </tr>\n    <tr>\n      <th>801705</th>\n      <td>14577</td>\n      <td>4.254552</td>\n    </tr>\n    <tr>\n      <th>861069</th>\n      <td>17205</td>\n      <td>4.249320</td>\n    </tr>\n  </tbody>\n</table>\n</div>"
          },
          "metadata": {}
        }
      ],
      "execution_count": null
    },
    {
      "cell_type": "code",
      "source": [
        "# Những product có điểm lớn hơn 4\n",
        "df_score[df_score.EstimateScore>=4]"
      ],
      "metadata": {
        "trusted": true,
        "execution": {
          "iopub.status.busy": "2025-04-03T18:21:42.267808Z",
          "iopub.execute_input": "2025-04-03T18:21:42.268107Z",
          "iopub.status.idle": "2025-04-03T18:21:42.278318Z",
          "shell.execute_reply.started": "2025-04-03T18:21:42.268087Z",
          "shell.execute_reply": "2025-04-03T18:21:42.277445Z"
        },
        "id": "yjE-8voofiBl",
        "outputId": "bb407455-229b-4951-8fe7-0260926a9a9c"
      },
      "outputs": [
        {
          "execution_count": 71,
          "output_type": "execute_result",
          "data": {
            "text/plain": "        product_id  EstimateScore\n449443       23707       4.307558\n32347        20209       4.298078\n870504       17305       4.255983\n801705       14577       4.254552\n861069       17205       4.249320\n...            ...            ...\n424684       23509       4.000771\n567360        1157       4.000750\n102084       21395       4.000615\n548217       25856       4.000416\n527712       25415       4.000170\n\n[1563 rows x 2 columns]",
            "text/html": "<div>\n<style scoped>\n    .dataframe tbody tr th:only-of-type {\n        vertical-align: middle;\n    }\n\n    .dataframe tbody tr th {\n        vertical-align: top;\n    }\n\n    .dataframe thead th {\n        text-align: right;\n    }\n</style>\n<table border=\"1\" class=\"dataframe\">\n  <thead>\n    <tr style=\"text-align: right;\">\n      <th></th>\n      <th>product_id</th>\n      <th>EstimateScore</th>\n    </tr>\n  </thead>\n  <tbody>\n    <tr>\n      <th>449443</th>\n      <td>23707</td>\n      <td>4.307558</td>\n    </tr>\n    <tr>\n      <th>32347</th>\n      <td>20209</td>\n      <td>4.298078</td>\n    </tr>\n    <tr>\n      <th>870504</th>\n      <td>17305</td>\n      <td>4.255983</td>\n    </tr>\n    <tr>\n      <th>801705</th>\n      <td>14577</td>\n      <td>4.254552</td>\n    </tr>\n    <tr>\n      <th>861069</th>\n      <td>17205</td>\n      <td>4.249320</td>\n    </tr>\n    <tr>\n      <th>...</th>\n      <td>...</td>\n      <td>...</td>\n    </tr>\n    <tr>\n      <th>424684</th>\n      <td>23509</td>\n      <td>4.000771</td>\n    </tr>\n    <tr>\n      <th>567360</th>\n      <td>1157</td>\n      <td>4.000750</td>\n    </tr>\n    <tr>\n      <th>102084</th>\n      <td>21395</td>\n      <td>4.000615</td>\n    </tr>\n    <tr>\n      <th>548217</th>\n      <td>25856</td>\n      <td>4.000416</td>\n    </tr>\n    <tr>\n      <th>527712</th>\n      <td>25415</td>\n      <td>4.000170</td>\n    </tr>\n  </tbody>\n</table>\n<p>1563 rows × 2 columns</p>\n</div>"
          },
          "metadata": {}
        }
      ],
      "execution_count": null
    },
    {
      "cell_type": "code",
      "source": [
        "df_score2 = df[['product_id', 'product_name']]\n",
        "df_score2 = df_score2.drop_duplicates()"
      ],
      "metadata": {
        "trusted": true,
        "execution": {
          "iopub.status.busy": "2025-04-03T18:24:05.773231Z",
          "iopub.execute_input": "2025-04-03T18:24:05.773702Z",
          "iopub.status.idle": "2025-04-03T18:24:05.911286Z",
          "shell.execute_reply.started": "2025-04-03T18:24:05.773668Z",
          "shell.execute_reply": "2025-04-03T18:24:05.910405Z"
        },
        "id": "as0rgX7wfiBq"
      },
      "outputs": [],
      "execution_count": null
    },
    {
      "cell_type": "code",
      "source": [
        "# Evaluated\n",
        "df_score2['EstimateScore'] = df_score2['product_id'].apply(lambda x: model.predict(userId2, x).est)\n",
        "df_score2 = df_score2.sort_values(by=['EstimateScore'], ascending=False)"
      ],
      "metadata": {
        "trusted": true,
        "execution": {
          "iopub.status.busy": "2025-04-03T18:24:43.994002Z",
          "iopub.execute_input": "2025-04-03T18:24:43.994372Z",
          "iopub.status.idle": "2025-04-03T18:24:57.957318Z",
          "shell.execute_reply.started": "2025-04-03T18:24:43.994342Z",
          "shell.execute_reply": "2025-04-03T18:24:57.956440Z"
        },
        "id": "0CeEPQHFfiBq"
      },
      "outputs": [],
      "execution_count": null
    },
    {
      "cell_type": "code",
      "source": [
        "df_score2.head()"
      ],
      "metadata": {
        "trusted": true,
        "execution": {
          "iopub.status.busy": "2025-04-03T18:25:09.533650Z",
          "iopub.execute_input": "2025-04-03T18:25:09.533993Z",
          "iopub.status.idle": "2025-04-03T18:25:09.542775Z",
          "shell.execute_reply.started": "2025-04-03T18:25:09.533963Z",
          "shell.execute_reply": "2025-04-03T18:25:09.541668Z"
        },
        "id": "phx6CDRjfiBq",
        "outputId": "a22fc625-9572-41aa-d095-2d038eff0392"
      },
      "outputs": [
        {
          "execution_count": 74,
          "output_type": "execute_result",
          "data": {
            "text/plain": "        product_id                                       product_name  \\\n449443       23707  Áo hoodie dáng rộng phong cách Hàn Quốc trẻ tr...   \n950093      174039   Tất Nam Uniqlo Chống Hôi Chân Cổ Ngắn Hàng Chuẩn   \n801705       14577  Quần Jeans trơn KK05 GUY's Closet kiểu basic ố...   \n870504       17305  Tất Ngắn Muji Xuất dư chuẩn xịn ( Trắng đen xá...   \n32347        20209                        Áo nỉ da cá nam dài tay T41   \n\n        EstimateScore  \n449443       4.475007  \n950093       4.442439  \n801705       4.438483  \n870504       4.437688  \n32347        4.426593  ",
            "text/html": "<div>\n<style scoped>\n    .dataframe tbody tr th:only-of-type {\n        vertical-align: middle;\n    }\n\n    .dataframe tbody tr th {\n        vertical-align: top;\n    }\n\n    .dataframe thead th {\n        text-align: right;\n    }\n</style>\n<table border=\"1\" class=\"dataframe\">\n  <thead>\n    <tr style=\"text-align: right;\">\n      <th></th>\n      <th>product_id</th>\n      <th>product_name</th>\n      <th>EstimateScore</th>\n    </tr>\n  </thead>\n  <tbody>\n    <tr>\n      <th>449443</th>\n      <td>23707</td>\n      <td>Áo hoodie dáng rộng phong cách Hàn Quốc trẻ tr...</td>\n      <td>4.475007</td>\n    </tr>\n    <tr>\n      <th>950093</th>\n      <td>174039</td>\n      <td>Tất Nam Uniqlo Chống Hôi Chân Cổ Ngắn Hàng Chuẩn</td>\n      <td>4.442439</td>\n    </tr>\n    <tr>\n      <th>801705</th>\n      <td>14577</td>\n      <td>Quần Jeans trơn KK05 GUY's Closet kiểu basic ố...</td>\n      <td>4.438483</td>\n    </tr>\n    <tr>\n      <th>870504</th>\n      <td>17305</td>\n      <td>Tất Ngắn Muji Xuất dư chuẩn xịn ( Trắng đen xá...</td>\n      <td>4.437688</td>\n    </tr>\n    <tr>\n      <th>32347</th>\n      <td>20209</td>\n      <td>Áo nỉ da cá nam dài tay T41</td>\n      <td>4.426593</td>\n    </tr>\n  </tbody>\n</table>\n</div>"
          },
          "metadata": {}
        }
      ],
      "execution_count": null
    },
    {
      "cell_type": "code",
      "source": [
        "# Những product có điểm lớn hơn 4\n",
        "df_score2[df_score2.EstimateScore>=4]"
      ],
      "metadata": {
        "trusted": true,
        "execution": {
          "iopub.status.busy": "2025-04-03T18:25:43.843803Z",
          "iopub.execute_input": "2025-04-03T18:25:43.844124Z",
          "iopub.status.idle": "2025-04-03T18:25:43.856138Z",
          "shell.execute_reply.started": "2025-04-03T18:25:43.844102Z",
          "shell.execute_reply": "2025-04-03T18:25:43.855174Z"
        },
        "id": "QXJo2x41fiBr",
        "outputId": "37d17152-e7bd-4dbc-aea4-d53b9e0245f0"
      },
      "outputs": [
        {
          "execution_count": 78,
          "output_type": "execute_result",
          "data": {
            "text/plain": "        product_id                                       product_name  \\\n449443       23707  Áo hoodie dáng rộng phong cách Hàn Quốc trẻ tr...   \n950093      174039   Tất Nam Uniqlo Chống Hôi Chân Cổ Ngắn Hàng Chuẩn   \n801705       14577  Quần Jeans trơn KK05 GUY's Closet kiểu basic ố...   \n870504       17305  Tất Ngắn Muji Xuất dư chuẩn xịn ( Trắng đen xá...   \n32347        20209                        Áo nỉ da cá nam dài tay T41   \n...            ...                                                ...   \n729812      151462  COMBO 6 Quần ngủ nam LAVIC, chất vải thun cott...   \n533504       25518  Combo 5 quần lót nam tam giác Nhật thông hơi c...   \n52195        20673  [CÓ VIDEO + HÌNH THẬT] Áo thun Unisex tay lỡ F...   \n129471       21976      Áo khoác Bape X PUBG, Áo Khoác Bape nhiều màu   \n273617       10301  (40 mẫu) Cà vạt họa tiết cho nam cravat công s...   \n\n        EstimateScore  \n449443       4.475007  \n950093       4.442439  \n801705       4.438483  \n870504       4.437688  \n32347        4.426593  \n...               ...  \n729812       4.000230  \n533504       4.000140  \n52195        4.000084  \n129471       4.000077  \n273617       4.000029  \n\n[5314 rows x 3 columns]",
            "text/html": "<div>\n<style scoped>\n    .dataframe tbody tr th:only-of-type {\n        vertical-align: middle;\n    }\n\n    .dataframe tbody tr th {\n        vertical-align: top;\n    }\n\n    .dataframe thead th {\n        text-align: right;\n    }\n</style>\n<table border=\"1\" class=\"dataframe\">\n  <thead>\n    <tr style=\"text-align: right;\">\n      <th></th>\n      <th>product_id</th>\n      <th>product_name</th>\n      <th>EstimateScore</th>\n    </tr>\n  </thead>\n  <tbody>\n    <tr>\n      <th>449443</th>\n      <td>23707</td>\n      <td>Áo hoodie dáng rộng phong cách Hàn Quốc trẻ tr...</td>\n      <td>4.475007</td>\n    </tr>\n    <tr>\n      <th>950093</th>\n      <td>174039</td>\n      <td>Tất Nam Uniqlo Chống Hôi Chân Cổ Ngắn Hàng Chuẩn</td>\n      <td>4.442439</td>\n    </tr>\n    <tr>\n      <th>801705</th>\n      <td>14577</td>\n      <td>Quần Jeans trơn KK05 GUY's Closet kiểu basic ố...</td>\n      <td>4.438483</td>\n    </tr>\n    <tr>\n      <th>870504</th>\n      <td>17305</td>\n      <td>Tất Ngắn Muji Xuất dư chuẩn xịn ( Trắng đen xá...</td>\n      <td>4.437688</td>\n    </tr>\n    <tr>\n      <th>32347</th>\n      <td>20209</td>\n      <td>Áo nỉ da cá nam dài tay T41</td>\n      <td>4.426593</td>\n    </tr>\n    <tr>\n      <th>...</th>\n      <td>...</td>\n      <td>...</td>\n      <td>...</td>\n    </tr>\n    <tr>\n      <th>729812</th>\n      <td>151462</td>\n      <td>COMBO 6 Quần ngủ nam LAVIC, chất vải thun cott...</td>\n      <td>4.000230</td>\n    </tr>\n    <tr>\n      <th>533504</th>\n      <td>25518</td>\n      <td>Combo 5 quần lót nam tam giác Nhật thông hơi c...</td>\n      <td>4.000140</td>\n    </tr>\n    <tr>\n      <th>52195</th>\n      <td>20673</td>\n      <td>[CÓ VIDEO + HÌNH THẬT] Áo thun Unisex tay lỡ F...</td>\n      <td>4.000084</td>\n    </tr>\n    <tr>\n      <th>129471</th>\n      <td>21976</td>\n      <td>Áo khoác Bape X PUBG, Áo Khoác Bape nhiều màu</td>\n      <td>4.000077</td>\n    </tr>\n    <tr>\n      <th>273617</th>\n      <td>10301</td>\n      <td>(40 mẫu) Cà vạt họa tiết cho nam cravat công s...</td>\n      <td>4.000029</td>\n    </tr>\n  </tbody>\n</table>\n<p>5314 rows × 3 columns</p>\n</div>"
          },
          "metadata": {}
        }
      ],
      "execution_count": null
    },
    {
      "cell_type": "code",
      "source": [],
      "metadata": {
        "trusted": true,
        "id": "qQLEMafRfiBr"
      },
      "outputs": [],
      "execution_count": null
    }
  ]
}