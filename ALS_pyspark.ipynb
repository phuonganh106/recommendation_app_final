{
  "metadata": {
    "kernelspec": {
      "language": "python",
      "display_name": "Python 3",
      "name": "python3"
    },
    "language_info": {
      "name": "python",
      "version": "3.10.12",
      "mimetype": "text/x-python",
      "codemirror_mode": {
        "name": "ipython",
        "version": 3
      },
      "pygments_lexer": "ipython3",
      "nbconvert_exporter": "python",
      "file_extension": ".py"
    },
    "kaggle": {
      "accelerator": "nvidiaTeslaT4",
      "dataSources": [
        {
          "sourceId": 11264962,
          "sourceType": "datasetVersion",
          "datasetId": 7041280
        },
        {
          "sourceId": 11266608,
          "sourceType": "datasetVersion",
          "datasetId": 7042533
        }
      ],
      "dockerImageVersionId": 30919,
      "isInternetEnabled": true,
      "language": "python",
      "sourceType": "notebook",
      "isGpuEnabled": true
    },
    "colab": {
      "provenance": []
    }
  },
  "nbformat_minor": 0,
  "nbformat": 4,
  "cells": [
    {
      "cell_type": "code",
      "source": [
        "!pip install pyspark"
      ],
      "metadata": {
        "trusted": true,
        "execution": {
          "iopub.status.busy": "2025-04-04T08:02:51.977697Z",
          "iopub.execute_input": "2025-04-04T08:02:51.978022Z",
          "iopub.status.idle": "2025-04-04T08:02:55.394374Z",
          "shell.execute_reply.started": "2025-04-04T08:02:51.977995Z",
          "shell.execute_reply": "2025-04-04T08:02:55.393198Z"
        },
        "id": "NMsFBdIx-8kQ",
        "outputId": "5f45ffac-d29a-42be-c4be-74d534c665ff"
      },
      "outputs": [
        {
          "name": "stdout",
          "text": "Requirement already satisfied: pyspark in /usr/local/lib/python3.10/dist-packages (3.5.3)\nRequirement already satisfied: py4j==0.10.9.7 in /usr/local/lib/python3.10/dist-packages (from pyspark) (0.10.9.7)\n",
          "output_type": "stream"
        }
      ],
      "execution_count": null
    },
    {
      "cell_type": "code",
      "source": [
        "from pyspark.sql import SparkSession\n",
        "\n",
        "spark = SparkSession.builder.appName(\"recommendation_ALS\").getOrCreate()"
      ],
      "metadata": {
        "trusted": true,
        "execution": {
          "iopub.status.busy": "2025-04-04T08:02:55.395754Z",
          "iopub.execute_input": "2025-04-04T08:02:55.396075Z",
          "iopub.status.idle": "2025-04-04T08:02:59.122703Z",
          "shell.execute_reply.started": "2025-04-04T08:02:55.396051Z",
          "shell.execute_reply": "2025-04-04T08:02:59.121453Z"
        },
        "id": "4RULBdBL-8kQ"
      },
      "outputs": [],
      "execution_count": null
    },
    {
      "cell_type": "code",
      "source": [
        "ratings= spark.read.csv('/kaggle/input/ratings/Products_ThoiTrangNam_rating_raw.csv', header=True, sep='\\t')"
      ],
      "metadata": {
        "trusted": true,
        "execution": {
          "iopub.status.busy": "2025-04-04T08:02:59.124766Z",
          "iopub.execute_input": "2025-04-04T08:02:59.125470Z",
          "iopub.status.idle": "2025-04-04T08:03:04.378878Z",
          "shell.execute_reply.started": "2025-04-04T08:02:59.125440Z",
          "shell.execute_reply": "2025-04-04T08:03:04.377825Z"
        },
        "id": "y-DvbOLq-8kR"
      },
      "outputs": [],
      "execution_count": null
    },
    {
      "cell_type": "code",
      "source": [
        "ratings.show(5)"
      ],
      "metadata": {
        "trusted": true,
        "execution": {
          "iopub.status.busy": "2025-04-04T08:03:04.380328Z",
          "iopub.execute_input": "2025-04-04T08:03:04.380652Z",
          "iopub.status.idle": "2025-04-04T08:03:04.702004Z",
          "shell.execute_reply.started": "2025-04-04T08:03:04.380617Z",
          "shell.execute_reply": "2025-04-04T08:03:04.700902Z"
        },
        "id": "5Mkb8Phb-8kR",
        "outputId": "05099e49-173e-4a21-b5e4-bd4c0f5ad39a"
      },
      "outputs": [
        {
          "name": "stdout",
          "text": "+----------+-------+------------------+------+\n|product_id|user_id|              user|rating|\n+----------+-------+------------------+------+\n|       190|      1|      karmakyun2nd|     5|\n|       190|      2|  tranquangvinh_vv|     5|\n|       190|      3|nguyenquoctoan2005|     5|\n|       190|      4|    nguyenthuyhavi|     5|\n|       190|      5|      luonganh5595|     5|\n+----------+-------+------------------+------+\nonly showing top 5 rows\n\n",
          "output_type": "stream"
        }
      ],
      "execution_count": null
    },
    {
      "cell_type": "code",
      "source": [
        "ratings.printSchema()"
      ],
      "metadata": {
        "trusted": true,
        "execution": {
          "iopub.status.busy": "2025-04-04T08:03:04.703216Z",
          "iopub.execute_input": "2025-04-04T08:03:04.703618Z",
          "iopub.status.idle": "2025-04-04T08:03:04.709703Z",
          "shell.execute_reply.started": "2025-04-04T08:03:04.703581Z",
          "shell.execute_reply": "2025-04-04T08:03:04.708809Z"
        },
        "id": "ZtttEEGJ-8kR",
        "outputId": "5b9dfdea-eaad-4629-f978-fe24dbe4d0e1"
      },
      "outputs": [
        {
          "name": "stdout",
          "text": "root\n |-- product_id: string (nullable = true)\n |-- user_id: string (nullable = true)\n |-- user: string (nullable = true)\n |-- rating: string (nullable = true)\n\n",
          "output_type": "stream"
        }
      ],
      "execution_count": null
    },
    {
      "cell_type": "code",
      "source": [
        "from pyspark.sql.types import IntegerType\n",
        "ratings = ratings.dropna()\n",
        "ratings = ratings.withColumn(\"rating\", ratings[\"rating\"].cast(IntegerType()))\n",
        "ratings.printSchema()"
      ],
      "metadata": {
        "trusted": true,
        "execution": {
          "iopub.status.busy": "2025-04-04T08:03:04.710643Z",
          "iopub.execute_input": "2025-04-04T08:03:04.710862Z",
          "iopub.status.idle": "2025-04-04T08:03:04.787441Z",
          "shell.execute_reply.started": "2025-04-04T08:03:04.710832Z",
          "shell.execute_reply": "2025-04-04T08:03:04.786479Z"
        },
        "id": "zmvaGBpe-8kR",
        "outputId": "10ab0608-6b36-4b36-b2df-8c620a3083e5"
      },
      "outputs": [
        {
          "name": "stdout",
          "text": "root\n |-- product_id: string (nullable = true)\n |-- user_id: string (nullable = true)\n |-- user: string (nullable = true)\n |-- rating: integer (nullable = true)\n\n",
          "output_type": "stream"
        }
      ],
      "execution_count": null
    },
    {
      "cell_type": "code",
      "source": [
        "# drop duplicate\n",
        "df = ratings.dropDuplicates()\n",
        "df.count()"
      ],
      "metadata": {
        "trusted": true,
        "execution": {
          "iopub.status.busy": "2025-04-04T08:03:04.788402Z",
          "iopub.execute_input": "2025-04-04T08:03:04.788987Z",
          "iopub.status.idle": "2025-04-04T08:03:09.714987Z",
          "shell.execute_reply.started": "2025-04-04T08:03:04.788918Z",
          "shell.execute_reply": "2025-04-04T08:03:09.714058Z"
        },
        "id": "Xbik1V2e-8kS",
        "outputId": "ac3cfe8e-fa0f-48d2-aecf-2bcc6d049017"
      },
      "outputs": [
        {
          "execution_count": 7,
          "output_type": "execute_result",
          "data": {
            "text/plain": "999815"
          },
          "metadata": {}
        }
      ],
      "execution_count": null
    },
    {
      "cell_type": "markdown",
      "source": [
        "## Thu nhỏ bộ data"
      ],
      "metadata": {
        "id": "DcB4jzLc-8kS"
      }
    },
    {
      "cell_type": "code",
      "source": [
        "from pyspark.sql import functions as F"
      ],
      "metadata": {
        "trusted": true,
        "execution": {
          "iopub.status.busy": "2025-04-04T08:03:09.717740Z",
          "iopub.execute_input": "2025-04-04T08:03:09.719468Z",
          "iopub.status.idle": "2025-04-04T08:03:09.724930Z",
          "shell.execute_reply.started": "2025-04-04T08:03:09.719429Z",
          "shell.execute_reply": "2025-04-04T08:03:09.724006Z"
        },
        "id": "t128Z2k2-8kT"
      },
      "outputs": [],
      "execution_count": null
    },
    {
      "cell_type": "code",
      "source": [
        "# Ngưỡng lọc\n",
        "min_user_ratings = 3\n",
        "min_item_ratings = 5\n",
        "\n",
        "# Đếm số lượng ratings của từng user và item\n",
        "user_rating_counts = df.groupBy(\"user_id\").count()\n",
        "item_rating_counts = df.groupBy(\"product_id\").count()\n",
        "\n",
        "# Lọc các user có đủ số lượng ratings\n",
        "filtered_users = user_rating_counts.filter(F.col(\"count\") >= min_user_ratings)\n",
        "filtered_items = item_rating_counts.filter(F.col(\"count\") >= min_item_ratings)\n",
        "\n",
        "# Thực hiện join để lọc dữ liệu gốc\n",
        "filtered_df = df.join(\n",
        "    filtered_users,\n",
        "    on=\"user_id\",\n",
        "    how=\"inner\"\n",
        ").join(\n",
        "    filtered_items,\n",
        "    on=\"product_id\",\n",
        "    how=\"inner\"\n",
        ").drop(filtered_users[\"count\"]).drop(filtered_items[\"count\"])\n",
        "\n",
        "# Hiển thị kích thước sau khi lọc\n",
        "print(\"Kích thước sau lọc:\", (filtered_df.count(), len(filtered_df.columns)))"
      ],
      "metadata": {
        "trusted": true,
        "execution": {
          "iopub.status.busy": "2025-04-04T08:03:09.726993Z",
          "iopub.execute_input": "2025-04-04T08:03:09.727366Z",
          "iopub.status.idle": "2025-04-04T08:03:21.722022Z",
          "shell.execute_reply.started": "2025-04-04T08:03:09.727330Z",
          "shell.execute_reply": "2025-04-04T08:03:21.714760Z"
        },
        "id": "r9zjMNdl-8kT",
        "outputId": "f039ed61-2cdc-47eb-dc89-4d21c1880379"
      },
      "outputs": [
        {
          "name": "stdout",
          "text": "Kích thước sau lọc: (298151, 4)\n",
          "output_type": "stream"
        }
      ],
      "execution_count": null
    },
    {
      "cell_type": "code",
      "source": [
        "# Kiểm tra lại phân phối ratings\n",
        "filtered_df.groupBy(\"rating\").count().show()"
      ],
      "metadata": {
        "trusted": true,
        "execution": {
          "iopub.status.busy": "2025-04-04T08:03:21.722838Z",
          "iopub.execute_input": "2025-04-04T08:03:21.723182Z",
          "iopub.status.idle": "2025-04-04T08:03:30.514127Z",
          "shell.execute_reply.started": "2025-04-04T08:03:21.723147Z",
          "shell.execute_reply": "2025-04-04T08:03:30.512503Z"
        },
        "id": "ivqVzqWd-8kT",
        "outputId": "35bcf5c0-350f-4eb0-e7c5-653a63348d77"
      },
      "outputs": [
        {
          "name": "stdout",
          "text": "+------+------+\n|rating| count|\n+------+------+\n|     1| 12734|\n|     3| 16311|\n|     5|230371|\n|     4| 31217|\n|     2|  7518|\n+------+------+\n\n",
          "output_type": "stream"
        }
      ],
      "execution_count": null
    },
    {
      "cell_type": "code",
      "source": [
        "# Filter rating\n",
        "rating_5 = filtered_df.filter(F.col(\"rating\")==5)\n",
        "other_ratings = filtered_df.filter(~F.col(\"rating\").isin([5]))\n",
        "\n",
        "# Downsample rating 5 -> 100000\n",
        "rating_5_downsampled = rating_5.sample(fraction=100000/rating_5.count(), seed=42)\n",
        "\n",
        "# Combine dataset\n",
        "balanced_df = rating_5_downsampled.union(other_ratings)"
      ],
      "metadata": {
        "trusted": true,
        "execution": {
          "iopub.status.busy": "2025-04-04T08:03:30.514833Z",
          "iopub.execute_input": "2025-04-04T08:03:30.515155Z",
          "iopub.status.idle": "2025-04-04T08:03:37.839622Z",
          "shell.execute_reply.started": "2025-04-04T08:03:30.515122Z",
          "shell.execute_reply": "2025-04-04T08:03:37.838541Z"
        },
        "id": "LwFCtg1N-8kU"
      },
      "outputs": [],
      "execution_count": null
    },
    {
      "cell_type": "code",
      "source": [
        "# check distribution\n",
        "balanced_df.groupby('rating').count().orderBy('rating').show()"
      ],
      "metadata": {
        "trusted": true,
        "execution": {
          "iopub.status.busy": "2025-04-04T08:03:37.840769Z",
          "iopub.execute_input": "2025-04-04T08:03:37.841129Z",
          "iopub.status.idle": "2025-04-04T08:03:49.125420Z",
          "shell.execute_reply.started": "2025-04-04T08:03:37.841097Z",
          "shell.execute_reply": "2025-04-04T08:03:49.123638Z"
        },
        "id": "29CYSMET-8kU",
        "outputId": "f24111a9-3f9c-42c7-b359-28e8c1b32a45"
      },
      "outputs": [
        {
          "name": "stdout",
          "text": "+------+-----+\n|rating|count|\n+------+-----+\n|     1|12734|\n|     2| 7518|\n|     3|16311|\n|     4|31217|\n|     5|99840|\n+------+-----+\n\n",
          "output_type": "stream"
        }
      ],
      "execution_count": null
    },
    {
      "cell_type": "code",
      "source": [
        "# Distinct users and products\n",
        "users = balanced_df.select(\"user_id\").distinct().count()\n",
        "products = balanced_df.select(\"product_id\").distinct().count()\n",
        "numerator = balanced_df.count()"
      ],
      "metadata": {
        "trusted": true,
        "execution": {
          "iopub.status.busy": "2025-04-04T08:03:49.127380Z",
          "iopub.execute_input": "2025-04-04T08:03:49.127714Z",
          "iopub.status.idle": "2025-04-04T08:04:15.461845Z",
          "shell.execute_reply.started": "2025-04-04T08:03:49.127680Z",
          "shell.execute_reply": "2025-04-04T08:04:15.460429Z"
        },
        "id": "c-KwoXMk-8kU"
      },
      "outputs": [],
      "execution_count": null
    },
    {
      "cell_type": "code",
      "source": [
        "display(numerator, users, products)"
      ],
      "metadata": {
        "trusted": true,
        "execution": {
          "iopub.status.busy": "2025-04-04T08:04:15.467480Z",
          "iopub.execute_input": "2025-04-04T08:04:15.467822Z",
          "iopub.status.idle": "2025-04-04T08:04:15.479182Z",
          "shell.execute_reply.started": "2025-04-04T08:04:15.467790Z",
          "shell.execute_reply": "2025-04-04T08:04:15.476264Z"
        },
        "id": "hnaZfW5f-8kU",
        "outputId": "1cc778a8-60aa-480b-9254-e32d6d858725"
      },
      "outputs": [
        {
          "output_type": "display_data",
          "data": {
            "text/plain": "167620"
          },
          "metadata": {}
        },
        {
          "output_type": "display_data",
          "data": {
            "text/plain": "27965"
          },
          "metadata": {}
        },
        {
          "output_type": "display_data",
          "data": {
            "text/plain": "20380"
          },
          "metadata": {}
        }
      ],
      "execution_count": null
    },
    {
      "cell_type": "code",
      "source": [
        "# Number of ratings matrix could contains if no empty cells\n",
        "denominator = users * products\n",
        "denominator"
      ],
      "metadata": {
        "trusted": true,
        "execution": {
          "iopub.status.busy": "2025-04-04T08:04:15.480412Z",
          "iopub.execute_input": "2025-04-04T08:04:15.480720Z",
          "iopub.status.idle": "2025-04-04T08:04:15.496121Z",
          "shell.execute_reply.started": "2025-04-04T08:04:15.480687Z",
          "shell.execute_reply": "2025-04-04T08:04:15.495519Z"
        },
        "id": "d95dnRdB-8kU",
        "outputId": "69b479f2-6fb3-44d1-c335-e2cfe138e8ea"
      },
      "outputs": [
        {
          "execution_count": 15,
          "output_type": "execute_result",
          "data": {
            "text/plain": "569926700"
          },
          "metadata": {}
        }
      ],
      "execution_count": null
    },
    {
      "cell_type": "code",
      "source": [
        "# Calculating sparsity\n",
        "sparsity = 1 - (numerator*1.0/denominator)\n",
        "print(\"Sparsity: \", sparsity)"
      ],
      "metadata": {
        "trusted": true,
        "execution": {
          "iopub.status.busy": "2025-04-04T08:04:15.496545Z",
          "iopub.execute_input": "2025-04-04T08:04:15.496729Z",
          "iopub.status.idle": "2025-04-04T08:04:15.513702Z",
          "shell.execute_reply.started": "2025-04-04T08:04:15.496712Z",
          "shell.execute_reply": "2025-04-04T08:04:15.513049Z"
        },
        "id": "l9P49KtF-8kU",
        "outputId": "5ad8df52-fe28-48f7-fc00-d503ccbba3d4"
      },
      "outputs": [
        {
          "name": "stdout",
          "text": "Sparsity:  0.999705892003305\n",
          "output_type": "stream"
        }
      ],
      "execution_count": null
    },
    {
      "cell_type": "code",
      "source": [
        "from pyspark.sql import functions as F\n",
        "from pyspark.ml.feature import StringIndexer\n",
        "from pyspark.ml.recommendation import ALS\n",
        "from pyspark.ml import Pipeline\n",
        "from pyspark.sql.functions import *"
      ],
      "metadata": {
        "trusted": true,
        "execution": {
          "iopub.status.busy": "2025-04-04T08:04:15.514454Z",
          "iopub.execute_input": "2025-04-04T08:04:15.514650Z",
          "iopub.status.idle": "2025-04-04T08:04:15.684633Z",
          "shell.execute_reply.started": "2025-04-04T08:04:15.514632Z",
          "shell.execute_reply": "2025-04-04T08:04:15.683908Z"
        },
        "id": "l6stI17l-8kU"
      },
      "outputs": [],
      "execution_count": null
    },
    {
      "cell_type": "code",
      "source": [
        "# Indexing cho user/item (bắt buộc với ALS)\n",
        "indexer = StringIndexer(\n",
        "    inputCols=[\"user_id\", \"product_id\"],\n",
        "    outputCols=[\"user_idx\", \"product_idx\"],\n",
        "    handleInvalid=\"keep\"\n",
        ")\n",
        "\n",
        "# ALS với weight và tham số tối ưu\n",
        "als = ALS(\n",
        "    maxIter=20,\n",
        "    regParam=0.2,\n",
        "    userCol=\"user_idx\",\n",
        "    itemCol=\"product_idx\",\n",
        "    ratingCol=\"rating\",\n",
        "    coldStartStrategy=\"drop\",\n",
        "    nonnegative=True,\n",
        "    implicitPrefs=False,\n",
        "    seed = 42\n",
        ")"
      ],
      "metadata": {
        "trusted": true,
        "execution": {
          "iopub.status.busy": "2025-04-04T08:04:15.685226Z",
          "iopub.execute_input": "2025-04-04T08:04:15.685612Z",
          "iopub.status.idle": "2025-04-04T08:04:15.729834Z",
          "shell.execute_reply.started": "2025-04-04T08:04:15.685586Z",
          "shell.execute_reply": "2025-04-04T08:04:15.729013Z"
        },
        "id": "t_l1zVTV-8kU"
      },
      "outputs": [],
      "execution_count": null
    },
    {
      "cell_type": "code",
      "source": [
        "pipeline = Pipeline(stages=[indexer, als])\n",
        "model = pipeline.fit(balanced_df)"
      ],
      "metadata": {
        "trusted": true,
        "execution": {
          "iopub.status.busy": "2025-04-04T08:06:02.633040Z",
          "iopub.execute_input": "2025-04-04T08:06:02.633415Z",
          "iopub.status.idle": "2025-04-04T08:06:46.216620Z",
          "shell.execute_reply.started": "2025-04-04T08:06:02.633387Z",
          "shell.execute_reply": "2025-04-04T08:06:46.215611Z"
        },
        "id": "K5kKsfcP-8kV"
      },
      "outputs": [],
      "execution_count": null
    },
    {
      "cell_type": "code",
      "source": [
        "from pyspark.ml.evaluation import RegressionEvaluator\n",
        "\n",
        "predictions = model.transform(balanced_df)"
      ],
      "metadata": {
        "trusted": true,
        "execution": {
          "iopub.status.busy": "2025-04-04T08:12:02.156553Z",
          "iopub.execute_input": "2025-04-04T08:12:02.156878Z",
          "iopub.status.idle": "2025-04-04T08:12:02.247433Z",
          "shell.execute_reply.started": "2025-04-04T08:12:02.156855Z",
          "shell.execute_reply": "2025-04-04T08:12:02.246448Z"
        },
        "id": "_NamaBSb-8kV"
      },
      "outputs": [],
      "execution_count": null
    },
    {
      "cell_type": "code",
      "source": [
        "predictions.select(\"prediction\", \"rating\").show(5)"
      ],
      "metadata": {
        "trusted": true,
        "execution": {
          "iopub.status.busy": "2025-04-04T08:12:38.476093Z",
          "iopub.execute_input": "2025-04-04T08:12:38.476435Z",
          "iopub.status.idle": "2025-04-04T08:12:46.398757Z",
          "shell.execute_reply.started": "2025-04-04T08:12:38.476408Z",
          "shell.execute_reply": "2025-04-04T08:12:46.394514Z"
        },
        "id": "avBBXlzD-8kV",
        "outputId": "9fcafdfd-09d9-4801-9d64-21e8353d8664"
      },
      "outputs": [
        {
          "name": "stdout",
          "text": "+----------+------+\n|prediction|rating|\n+----------+------+\n|  4.472162|     5|\n|  4.651831|     5|\n| 3.3850188|     5|\n|  4.412107|     5|\n| 4.6885996|     5|\n+----------+------+\nonly showing top 5 rows\n\n",
          "output_type": "stream"
        }
      ],
      "execution_count": null
    },
    {
      "cell_type": "code",
      "source": [
        "evaluator_rmse = RegressionEvaluator(\n",
        "    metricName = \"rmse\",\n",
        "    labelCol=\"rating\",\n",
        "    predictionCol=\"prediction\"\n",
        ")\n",
        "\n",
        "evaluator_mae = RegressionEvaluator(\n",
        "    metricName= \"mae\",\n",
        "    labelCol= \"rating\",\n",
        "    predictionCol = \"prediction\"\n",
        ")"
      ],
      "metadata": {
        "trusted": true,
        "execution": {
          "iopub.status.busy": "2025-04-04T08:12:47.174630Z",
          "iopub.execute_input": "2025-04-04T08:12:47.174923Z",
          "iopub.status.idle": "2025-04-04T08:12:47.186990Z",
          "shell.execute_reply.started": "2025-04-04T08:12:47.174902Z",
          "shell.execute_reply": "2025-04-04T08:12:47.186097Z"
        },
        "id": "Jy3SFY4j-8kV"
      },
      "outputs": [],
      "execution_count": null
    },
    {
      "cell_type": "code",
      "source": [
        "rmse = evaluator_rmse.evaluate(predictions)\n",
        "mae = evaluator_mae.evaluate(predictions)"
      ],
      "metadata": {
        "trusted": true,
        "execution": {
          "iopub.status.busy": "2025-04-04T08:12:47.469690Z",
          "iopub.execute_input": "2025-04-04T08:12:47.469983Z",
          "iopub.status.idle": "2025-04-04T08:13:04.380534Z",
          "shell.execute_reply.started": "2025-04-04T08:12:47.469926Z",
          "shell.execute_reply": "2025-04-04T08:13:04.379589Z"
        },
        "id": "qrOudyUS-8kV"
      },
      "outputs": [],
      "execution_count": null
    },
    {
      "cell_type": "code",
      "source": [
        "print(f\"rmse of model: {rmse}\")\n",
        "print(f\"mae of model: {mae}\")"
      ],
      "metadata": {
        "trusted": true,
        "execution": {
          "iopub.status.busy": "2025-04-04T08:13:04.381879Z",
          "iopub.execute_input": "2025-04-04T08:13:04.382212Z",
          "iopub.status.idle": "2025-04-04T08:13:04.387495Z",
          "shell.execute_reply.started": "2025-04-04T08:13:04.382182Z",
          "shell.execute_reply": "2025-04-04T08:13:04.386320Z"
        },
        "id": "Z1Y2dyBR-8kV",
        "outputId": "020b173d-bff6-4faf-b573-d30e3c1f5b0f"
      },
      "outputs": [
        {
          "name": "stdout",
          "text": "rmse of model: 0.7150024122101717\nmae of model: 0.5242901531804534\n",
          "output_type": "stream"
        }
      ],
      "execution_count": null
    },
    {
      "cell_type": "code",
      "source": [
        "als_model = model.stages[-1]"
      ],
      "metadata": {
        "trusted": true,
        "execution": {
          "iopub.status.busy": "2025-04-04T08:17:48.373673Z",
          "iopub.execute_input": "2025-04-04T08:17:48.374098Z",
          "iopub.status.idle": "2025-04-04T08:17:48.378165Z",
          "shell.execute_reply.started": "2025-04-04T08:17:48.374061Z",
          "shell.execute_reply": "2025-04-04T08:17:48.376972Z"
        },
        "id": "54rBwYS--8kV"
      },
      "outputs": [],
      "execution_count": null
    },
    {
      "cell_type": "code",
      "source": [
        "# Lưu model\n",
        "model.save('/kaggle/working/ALS_model')"
      ],
      "metadata": {
        "trusted": true,
        "execution": {
          "iopub.status.busy": "2025-04-04T08:15:08.588074Z",
          "iopub.execute_input": "2025-04-04T08:15:08.588481Z",
          "iopub.status.idle": "2025-04-04T08:15:11.782986Z",
          "shell.execute_reply.started": "2025-04-04T08:15:08.588437Z",
          "shell.execute_reply": "2025-04-04T08:15:11.782018Z"
        },
        "id": "rKqukHYL-8kV"
      },
      "outputs": [],
      "execution_count": null
    },
    {
      "cell_type": "code",
      "source": [
        "als_model.save('/kaggle/working/ALS_model_m')"
      ],
      "metadata": {
        "trusted": true,
        "execution": {
          "iopub.status.busy": "2025-04-04T08:18:12.247128Z",
          "iopub.execute_input": "2025-04-04T08:18:12.247508Z",
          "iopub.status.idle": "2025-04-04T08:18:13.316246Z",
          "shell.execute_reply.started": "2025-04-04T08:18:12.247477Z",
          "shell.execute_reply": "2025-04-04T08:18:13.315031Z"
        },
        "id": "htSyUzbn-8kV"
      },
      "outputs": [],
      "execution_count": null
    },
    {
      "cell_type": "markdown",
      "source": [
        "### Đưa ra đề xuất cho user"
      ],
      "metadata": {
        "id": "jJQOjm6x-8kV"
      }
    },
    {
      "cell_type": "code",
      "source": [
        "user_recs = als_model.recommendForAllUsers(10)\n",
        "user_recs.printSchema()"
      ],
      "metadata": {
        "trusted": true,
        "execution": {
          "iopub.status.busy": "2025-04-04T08:18:20.431665Z",
          "iopub.execute_input": "2025-04-04T08:18:20.432025Z",
          "iopub.status.idle": "2025-04-04T08:18:20.737010Z",
          "shell.execute_reply.started": "2025-04-04T08:18:20.431997Z",
          "shell.execute_reply": "2025-04-04T08:18:20.735820Z"
        },
        "id": "7hNRmAKw-8kV",
        "outputId": "d8577917-1cc3-41d7-aace-f5d8201eebb9"
      },
      "outputs": [
        {
          "name": "stdout",
          "text": "root\n |-- user_idx: integer (nullable = false)\n |-- recommendations: array (nullable = true)\n |    |-- element: struct (containsNull = true)\n |    |    |-- product_idx: integer (nullable = true)\n |    |    |-- rating: float (nullable = true)\n\n",
          "output_type": "stream"
        }
      ],
      "execution_count": null
    },
    {
      "cell_type": "code",
      "source": [
        "for user in user_recs.head(3):\n",
        "    print(user)"
      ],
      "metadata": {
        "trusted": true,
        "execution": {
          "iopub.status.busy": "2025-04-04T08:18:38.351490Z",
          "iopub.execute_input": "2025-04-04T08:18:38.351790Z",
          "iopub.status.idle": "2025-04-04T08:18:57.746723Z",
          "shell.execute_reply.started": "2025-04-04T08:18:38.351766Z",
          "shell.execute_reply": "2025-04-04T08:18:57.745705Z"
        },
        "id": "1zZVXyb4-8kV",
        "outputId": "c96ab4fc-3b5e-4182-d495-bff207d08d5e"
      },
      "outputs": [
        {
          "name": "stdout",
          "text": "Row(user_idx=1, recommendations=[Row(product_idx=14860, rating=5.414793014526367), Row(product_idx=19262, rating=5.308726787567139), Row(product_idx=19181, rating=5.210608005523682), Row(product_idx=18369, rating=5.150238513946533), Row(product_idx=20032, rating=5.097650527954102), Row(product_idx=7756, rating=5.066824913024902), Row(product_idx=6333, rating=5.060684680938721), Row(product_idx=18797, rating=5.047205448150635), Row(product_idx=8470, rating=5.037919521331787), Row(product_idx=16507, rating=5.0319085121154785)])\nRow(user_idx=12, recommendations=[Row(product_idx=19181, rating=5.477630138397217), Row(product_idx=14860, rating=5.4034600257873535), Row(product_idx=20087, rating=5.2751688957214355), Row(product_idx=18969, rating=5.174401760101318), Row(product_idx=8305, rating=5.157158374786377), Row(product_idx=16730, rating=5.153836727142334), Row(product_idx=4746, rating=5.15326452255249), Row(product_idx=20114, rating=5.152772903442383), Row(product_idx=8536, rating=5.142274856567383), Row(product_idx=8670, rating=5.141557693481445)])\nRow(user_idx=13, recommendations=[Row(product_idx=16730, rating=5.4626874923706055), Row(product_idx=18616, rating=5.435707092285156), Row(product_idx=13466, rating=5.279338359832764), Row(product_idx=19181, rating=5.250254154205322), Row(product_idx=15437, rating=5.228672027587891), Row(product_idx=18548, rating=5.190516471862793), Row(product_idx=14860, rating=5.173597812652588), Row(product_idx=17532, rating=5.168561935424805), Row(product_idx=18412, rating=5.16151237487793), Row(product_idx=18969, rating=5.151219367980957)])\n",
          "output_type": "stream"
        }
      ],
      "execution_count": null
    },
    {
      "cell_type": "code",
      "source": [
        "# Chuẩn hóa\n",
        "result = user_recs.select(user_recs.user_idx, explode(user_recs.recommendations))"
      ],
      "metadata": {
        "trusted": true,
        "execution": {
          "iopub.status.busy": "2025-04-04T08:19:32.007742Z",
          "iopub.execute_input": "2025-04-04T08:19:32.008096Z",
          "iopub.status.idle": "2025-04-04T08:19:32.036523Z",
          "shell.execute_reply.started": "2025-04-04T08:19:32.008069Z",
          "shell.execute_reply": "2025-04-04T08:19:32.035670Z"
        },
        "id": "39lp95Mh-8kV"
      },
      "outputs": [],
      "execution_count": null
    },
    {
      "cell_type": "code",
      "source": [
        "result = result.withColumn(\"product_id\", result.col.getField(\"product_idx\"))\\\n",
        "                .withColumn(\"rating\", result.col.getField(\"rating\"))\n",
        "result.show()"
      ],
      "metadata": {
        "trusted": true,
        "execution": {
          "iopub.status.busy": "2025-04-04T08:19:57.723648Z",
          "iopub.execute_input": "2025-04-04T08:19:57.723995Z",
          "iopub.status.idle": "2025-04-04T08:20:15.605179Z",
          "shell.execute_reply.started": "2025-04-04T08:19:57.723971Z",
          "shell.execute_reply": "2025-04-04T08:20:15.603913Z"
        },
        "id": "gMu8GpMC-8kV",
        "outputId": "3e3dca48-d9ca-434d-f204-b76f830cf013"
      },
      "outputs": [
        {
          "name": "stdout",
          "text": "+--------+------------------+----------+---------+\n|user_idx|               col|product_id|   rating|\n+--------+------------------+----------+---------+\n|       1| {14860, 5.414793}|     14860| 5.414793|\n|       1| {19262, 5.308727}|     19262| 5.308727|\n|       1| {19181, 5.210608}|     19181| 5.210608|\n|       1|{18369, 5.1502385}|     18369|5.1502385|\n|       1|{20032, 5.0976505}|     20032|5.0976505|\n|       1|  {7756, 5.066825}|      7756| 5.066825|\n|       1| {6333, 5.0606847}|      6333|5.0606847|\n|       1|{18797, 5.0472054}|     18797|5.0472054|\n|       1| {8470, 5.0379195}|      8470|5.0379195|\n|       1|{16507, 5.0319085}|     16507|5.0319085|\n|      12|  {19181, 5.47763}|     19181|  5.47763|\n|      12|  {14860, 5.40346}|     14860|  5.40346|\n|      12| {20087, 5.275169}|     20087| 5.275169|\n|      12|{18969, 5.1744018}|     18969|5.1744018|\n|      12| {8305, 5.1571584}|      8305|5.1571584|\n|      12|{16730, 5.1538367}|     16730|5.1538367|\n|      12| {4746, 5.1532645}|      4746|5.1532645|\n|      12| {20114, 5.152773}|     20114| 5.152773|\n|      12|  {8536, 5.142275}|      8536| 5.142275|\n|      12| {8670, 5.1415577}|      8670|5.1415577|\n+--------+------------------+----------+---------+\nonly showing top 20 rows\n\n",
          "output_type": "stream"
        }
      ],
      "execution_count": null
    },
    {
      "cell_type": "markdown",
      "source": [
        "Make recommendations"
      ],
      "metadata": {
        "id": "ggqmZ6aH-8kW"
      }
    },
    {
      "cell_type": "code",
      "source": [
        "df_user = predictions.select('user_idx', 'user_id').distinct()\n",
        "df_user.count()"
      ],
      "metadata": {
        "trusted": true,
        "execution": {
          "iopub.status.busy": "2025-04-04T08:23:38.168506Z",
          "iopub.execute_input": "2025-04-04T08:23:38.168862Z",
          "iopub.status.idle": "2025-04-04T08:23:48.410796Z",
          "shell.execute_reply.started": "2025-04-04T08:23:38.168829Z",
          "shell.execute_reply": "2025-04-04T08:23:48.409976Z"
        },
        "id": "wnHNCE9Y-8kW",
        "outputId": "cf5f30c1-0cdd-486a-a4a9-f18e27e16256"
      },
      "outputs": [
        {
          "execution_count": 54,
          "output_type": "execute_result",
          "data": {
            "text/plain": "27965"
          },
          "metadata": {}
        }
      ],
      "execution_count": null
    },
    {
      "cell_type": "code",
      "source": [
        "df_user.show(5)"
      ],
      "metadata": {
        "trusted": true,
        "execution": {
          "iopub.status.busy": "2025-04-04T08:24:13.153747Z",
          "iopub.execute_input": "2025-04-04T08:24:13.154095Z",
          "iopub.status.idle": "2025-04-04T08:24:22.364909Z",
          "shell.execute_reply.started": "2025-04-04T08:24:13.154071Z",
          "shell.execute_reply": "2025-04-04T08:24:22.362169Z"
        },
        "id": "-JJVjAZI-8kW",
        "outputId": "2d175b89-ba8e-4600-a658-2a05d5a2e192"
      },
      "outputs": [
        {
          "name": "stdout",
          "text": "+--------+-------+\n|user_idx|user_id|\n+--------+-------+\n|  9920.0|   9536|\n|   278.0|  14684|\n| 20484.0| 142463|\n|   768.0|  28015|\n|  4022.0| 108188|\n+--------+-------+\nonly showing top 5 rows\n\n",
          "output_type": "stream"
        }
      ],
      "execution_count": null
    },
    {
      "cell_type": "code",
      "source": [
        "products = spark.read.csv('/kaggle/input/product/products_not_duplicates.csv', header=True)\n",
        "products.show(5)"
      ],
      "metadata": {
        "trusted": true,
        "execution": {
          "iopub.status.busy": "2025-04-04T08:25:29.607421Z",
          "iopub.execute_input": "2025-04-04T08:25:29.607776Z",
          "iopub.status.idle": "2025-04-04T08:25:29.830390Z",
          "shell.execute_reply.started": "2025-04-04T08:25:29.607750Z",
          "shell.execute_reply": "2025-04-04T08:25:29.829454Z"
        },
        "id": "D1_qUhjE-8kW",
        "outputId": "58f58867-f5c9-4a16-c353-61a2eeb21683"
      },
      "outputs": [
        {
          "name": "stdout",
          "text": "+----------+--------------------+--------------+------------+--------------------+--------------------+-------+------+--------------------+\n|product_id|        product_name|      category|sub_category|                link|               image|  price|rating|         description|\n+----------+--------------------+--------------+------------+--------------------+--------------------+-------+------+--------------------+\n|       190|Áo ba lỗ thun gân...|Thời Trang Nam|    Áo Ba Lỗ|https://shopee.vn...|https://cf.shopee...|86250.0|   4.9|Danh Mục Shopee T...|\n|       191|Áo Ba Lỗ Nam Trắn...|Thời Trang Nam|    Áo Ba Lỗ|https://shopee.vn...|https://cf.shopee...|26800.0|   4.9|Danh Mục Shopee T...|\n|       192|Áo Ba Lỗ Nam Tyas...|Thời Trang Nam|    Áo Ba Lỗ|https://shopee.vn...|https://cf.shopee...|39500.0|   4.8|\"Danh Mục Shopee ...|\n|       193|ÁO BA LỖ HÀNG VIỆ...|Thời Trang Nam|    Áo Ba Lỗ|https://shopee.vn...|https://cf.shopee...|16500.0|   4.8|Danh Mục Shopee T...|\n|       194|Áo Thun Nam Thể T...|Thời Trang Nam|    Áo Ba Lỗ|https://shopee.vn...|                NULL|45000.0|   4.8|Danh Mục Shopee T...|\n+----------+--------------------+--------------+------------+--------------------+--------------------+-------+------+--------------------+\nonly showing top 5 rows\n\n",
          "output_type": "stream"
        }
      ],
      "execution_count": null
    },
    {
      "cell_type": "code",
      "source": [
        "predictions.printSchema()"
      ],
      "metadata": {
        "trusted": true,
        "execution": {
          "iopub.status.busy": "2025-04-04T08:27:02.948689Z",
          "iopub.execute_input": "2025-04-04T08:27:02.949179Z",
          "iopub.status.idle": "2025-04-04T08:27:02.954904Z",
          "shell.execute_reply.started": "2025-04-04T08:27:02.949137Z",
          "shell.execute_reply": "2025-04-04T08:27:02.954027Z"
        },
        "id": "Dc8YB1ZK-8kW",
        "outputId": "9ff4e25f-ea9c-4edb-b6d1-9f0e3cd94c7a"
      },
      "outputs": [
        {
          "name": "stdout",
          "text": "root\n |-- product_id: string (nullable = true)\n |-- user_id: string (nullable = true)\n |-- user: string (nullable = true)\n |-- rating: integer (nullable = true)\n |-- user_idx: double (nullable = false)\n |-- product_idx: double (nullable = false)\n |-- prediction: float (nullable = false)\n\n",
          "output_type": "stream"
        }
      ],
      "execution_count": null
    },
    {
      "cell_type": "code",
      "source": [
        "df_product = predictions.select('product_idx', 'product_id').distinct()\n",
        "df_product.count()"
      ],
      "metadata": {
        "trusted": true,
        "execution": {
          "iopub.status.busy": "2025-04-04T08:27:49.875898Z",
          "iopub.execute_input": "2025-04-04T08:27:49.876298Z",
          "iopub.status.idle": "2025-04-04T08:27:59.766808Z",
          "shell.execute_reply.started": "2025-04-04T08:27:49.876263Z",
          "shell.execute_reply": "2025-04-04T08:27:59.765690Z"
        },
        "id": "TorvUA8W-8kW",
        "outputId": "9e415d03-a0b6-45b9-d881-8d64efa47e3d"
      },
      "outputs": [
        {
          "execution_count": 59,
          "output_type": "execute_result",
          "data": {
            "text/plain": "20380"
          },
          "metadata": {}
        }
      ],
      "execution_count": null
    },
    {
      "cell_type": "code",
      "source": [
        "df_products = df_product.join(products[['product_id', 'product_name']], on='product_id', how='left')\n",
        "df_products.printSchema()"
      ],
      "metadata": {
        "trusted": true,
        "execution": {
          "iopub.status.busy": "2025-04-04T08:34:04.321513Z",
          "iopub.execute_input": "2025-04-04T08:34:04.321919Z",
          "iopub.status.idle": "2025-04-04T08:34:04.348529Z",
          "shell.execute_reply.started": "2025-04-04T08:34:04.321885Z",
          "shell.execute_reply": "2025-04-04T08:34:04.347588Z"
        },
        "id": "hNaaQuof-8kZ",
        "outputId": "96bb636b-3991-4f88-d67e-f5802f27720c"
      },
      "outputs": [
        {
          "name": "stdout",
          "text": "root\n |-- product_id: string (nullable = true)\n |-- product_idx: double (nullable = false)\n |-- product_name: string (nullable = true)\n\n",
          "output_type": "stream"
        }
      ],
      "execution_count": null
    },
    {
      "cell_type": "code",
      "source": [
        "df_products.count()"
      ],
      "metadata": {
        "trusted": true,
        "execution": {
          "iopub.status.busy": "2025-04-04T08:34:06.975589Z",
          "iopub.execute_input": "2025-04-04T08:34:06.975932Z",
          "iopub.status.idle": "2025-04-04T08:34:22.401324Z",
          "shell.execute_reply.started": "2025-04-04T08:34:06.975889Z",
          "shell.execute_reply": "2025-04-04T08:34:22.400161Z"
        },
        "id": "yBA2XuLI-8kZ",
        "outputId": "5df95b69-1ad2-4c65-fb0e-020f12133505"
      },
      "outputs": [
        {
          "execution_count": 64,
          "output_type": "execute_result",
          "data": {
            "text/plain": "20380"
          },
          "metadata": {}
        }
      ],
      "execution_count": null
    },
    {
      "cell_type": "code",
      "source": [
        "new_user_recs = user_recs.join(df_user, on=['user_idx'], how='left')"
      ],
      "metadata": {
        "trusted": true,
        "execution": {
          "iopub.status.busy": "2025-04-04T08:29:31.190569Z",
          "iopub.execute_input": "2025-04-04T08:29:31.190944Z",
          "iopub.status.idle": "2025-04-04T08:29:31.236399Z",
          "shell.execute_reply.started": "2025-04-04T08:29:31.190902Z",
          "shell.execute_reply": "2025-04-04T08:29:31.235317Z"
        },
        "id": "dYoau8KO-8kZ"
      },
      "outputs": [],
      "execution_count": null
    },
    {
      "cell_type": "code",
      "source": [
        "new_user_recs.show(10)"
      ],
      "metadata": {
        "trusted": true,
        "execution": {
          "iopub.status.busy": "2025-04-04T08:29:35.778303Z",
          "iopub.execute_input": "2025-04-04T08:29:35.778617Z",
          "iopub.status.idle": "2025-04-04T08:30:05.825347Z",
          "shell.execute_reply.started": "2025-04-04T08:29:35.778592Z",
          "shell.execute_reply": "2025-04-04T08:30:05.823560Z"
        },
        "id": "odcP2kAb-8kZ",
        "outputId": "7c045c05-2eaa-4776-a364-305a56ede3de"
      },
      "outputs": [
        {
          "name": "stdout",
          "text": "+--------+--------------------+-------+\n|user_idx|     recommendations|user_id|\n+--------+--------------------+-------+\n|      47|[{19181, 5.812966...|   3269|\n|      44|[{19181, 5.416633...|   1787|\n|       1|[{14860, 5.414793...|    159|\n|      34|[{19181, 5.708971...|     49|\n|      31|[{19181, 5.881964...|    549|\n|      22|[{20162, 5.447828...|   1293|\n|      28|[{18616, 5.781680...|    486|\n|      27|[{18412, 5.407358...|    354|\n|      13|[{16730, 5.462687...|     57|\n|      26|[{17577, 5.491009...|    105|\n+--------+--------------------+-------+\nonly showing top 10 rows\n\n",
          "output_type": "stream"
        }
      ],
      "execution_count": null
    },
    {
      "cell_type": "code",
      "source": [
        "new_user_recs.count()"
      ],
      "metadata": {
        "trusted": true,
        "execution": {
          "iopub.status.busy": "2025-04-04T08:30:05.826528Z",
          "iopub.execute_input": "2025-04-04T08:30:05.826859Z",
          "iopub.status.idle": "2025-04-04T08:30:32.319666Z",
          "shell.execute_reply.started": "2025-04-04T08:30:05.826825Z",
          "shell.execute_reply": "2025-04-04T08:30:32.318553Z"
        },
        "id": "oAenYVzH-8ka",
        "outputId": "2bc1aaf2-04ec-4272-ec82-1e6b7a891118"
      },
      "outputs": [
        {
          "execution_count": 62,
          "output_type": "execute_result",
          "data": {
            "text/plain": "27965"
          },
          "metadata": {}
        }
      ],
      "execution_count": null
    },
    {
      "cell_type": "code",
      "source": [
        "# Recommendation for reviewerID = '831'\n",
        "userID = '831'\n",
        "find_user_rec = new_user_recs.filter(new_user_recs['user_id'] == userID)\n",
        "user = find_user_rec.first()\n",
        "lst = []\n",
        "for row in user['recommendations']:\n",
        "    row_f = df_products.filter(df_products.product_idx == row['product_idx'])\n",
        "    row_f_first = row_f.first()\n",
        "    lst.append((row['product_idx'], row_f_first['product_name'], row['rating']))\n",
        "dic_user_rec = {'user_id' : user.user_id, 'recommendations' :lst}"
      ],
      "metadata": {
        "trusted": true,
        "execution": {
          "iopub.status.busy": "2025-04-04T08:35:55.743338Z",
          "iopub.execute_input": "2025-04-04T08:35:55.743659Z",
          "iopub.status.idle": "2025-04-04T08:38:14.683505Z",
          "shell.execute_reply.started": "2025-04-04T08:35:55.743636Z",
          "shell.execute_reply": "2025-04-04T08:38:14.682488Z"
        },
        "id": "t-dGtQqi-8ka"
      },
      "outputs": [],
      "execution_count": null
    },
    {
      "cell_type": "code",
      "source": [
        "dic_user_rec"
      ],
      "metadata": {
        "trusted": true,
        "execution": {
          "iopub.status.busy": "2025-04-04T08:38:14.684639Z",
          "iopub.execute_input": "2025-04-04T08:38:14.684916Z",
          "iopub.status.idle": "2025-04-04T08:38:14.690543Z",
          "shell.execute_reply.started": "2025-04-04T08:38:14.684892Z",
          "shell.execute_reply": "2025-04-04T08:38:14.689548Z"
        },
        "id": "Olvu1kEM-8ka",
        "outputId": "c280290b-a945-4005-d2dc-4108d8d8b3fa"
      },
      "outputs": [
        {
          "execution_count": 67,
          "output_type": "execute_result",
          "data": {
            "text/plain": "{'user_id': '831',\n 'recommendations': [(17577,\n   'Quần jean nam đen zipper LAZY BOUTIQUE Quần jean đen nam cao cấp',\n   5.443449974060059),\n  (20162,\n   'Trang phục hóa trang nhân vật hoạt hình anime Nhật Bản tokyo revengers độc đáo',\n   5.401844024658203),\n  (17235, 'Kính Mát Thời Trang Hàn Quốc Cho Nam', 5.386279106140137),\n  (18412, 'Tất Vớ Trơn Cổ Thấp 3 Màu', 5.228381633758545),\n  (12459,\n   'Tất Nam HỘP 10 ĐÔI TẤT KHỬ MÙI HÔI CHÂN ĐỦ MÀU - XUẤT NHẬT (tất siêu chống thối )',\n   5.224913120269775),\n  (17811,\n   'Quần NGỐ đùi thể thao nam thời trang phong cách trẻ trung năng động T20',\n   5.140273094177246),\n  (10623,\n   'Tất cotton phụ kiện đá bóng nam loại ngắn sợi dệt, combo vớ thời trang thể thao chất lượng – 2EV',\n   5.117858409881592),\n  (4748,\n   'Quần sịp đùi nam boxer logo thêu con cá, quần lót nam vải cotton mềm mịn đàn hồi tốt LAC01A',\n   5.112788200378418),\n  (14860,\n   'Bộ Đi Chùa Nam Lãnh Tụ Chất Kate Loại 1 Mịn Đẹp Ko Nhăn Ko Xù,Thoáng Mát Thoải Mái. Bộ Đồ Lam Đi Chùa Kín Đáo, Dễ Chịu',\n   5.095449924468994),\n  (20114,\n   'COMBO Bộ quần áo + Mặt nạ hoá trang cosplay nhân vật lính hình tròn tam giác hình vuông Squid Game trò chơi con mực',\n   5.092221260070801)]}"
          },
          "metadata": {}
        }
      ],
      "execution_count": null
    },
    {
      "cell_type": "code",
      "source": [
        "# Recommendation for reviewerID = '486'\n",
        "userID2 = '486'\n",
        "find_user_rec = new_user_recs.filter(new_user_recs['user_id'] == userID2)\n",
        "user = find_user_rec.first()\n",
        "lst = []\n",
        "for row in user['recommendations']:\n",
        "    row_f = df_products.filter(df_products.product_idx == row['product_idx'])\n",
        "    row_f_first = row_f.first()\n",
        "    lst.append((row['product_idx'], row_f_first['product_id'], row['rating']))\n",
        "dic_user_rec2 = {'user_id' : user.user_id, 'recommendations' :lst}"
      ],
      "metadata": {
        "trusted": true,
        "execution": {
          "iopub.status.busy": "2025-04-04T08:39:06.923582Z",
          "iopub.execute_input": "2025-04-04T08:39:06.923977Z",
          "iopub.status.idle": "2025-04-04T08:41:18.680197Z",
          "shell.execute_reply.started": "2025-04-04T08:39:06.923926Z",
          "shell.execute_reply": "2025-04-04T08:41:18.679386Z"
        },
        "id": "6s_TnUY6-8ka"
      },
      "outputs": [],
      "execution_count": null
    },
    {
      "cell_type": "code",
      "source": [
        "dic_user_rec2"
      ],
      "metadata": {
        "trusted": true,
        "execution": {
          "iopub.status.busy": "2025-04-04T08:41:18.681292Z",
          "iopub.execute_input": "2025-04-04T08:41:18.681529Z",
          "iopub.status.idle": "2025-04-04T08:41:18.687141Z",
          "shell.execute_reply.started": "2025-04-04T08:41:18.681509Z",
          "shell.execute_reply": "2025-04-04T08:41:18.686132Z"
        },
        "id": "oTOlc19w-8ka",
        "outputId": "22f0f734-62ce-478b-f995-785cc684ca51"
      },
      "outputs": [
        {
          "execution_count": 69,
          "output_type": "execute_result",
          "data": {
            "text/plain": "{'user_id': '486',\n 'recommendations': [(18616, '173620', 5.781680583953857),\n  (19181, '211026', 5.699519634246826),\n  (20162, '24253', 5.347224235534668),\n  (16578, '24980', 5.3200883865356445),\n  (16730, '26119', 5.317107200622559),\n  (9159, '1686', 5.281040668487549),\n  (18969, '1989', 5.234376430511475),\n  (10664, '171958', 5.164101600646973),\n  (9445, '20764', 5.156614303588867),\n  (8670, '25468', 5.148423671722412)]}"
          },
          "metadata": {}
        }
      ],
      "execution_count": null
    },
    {
      "cell_type": "code",
      "source": [],
      "metadata": {
        "trusted": true,
        "id": "1cQ22lcA-8ka"
      },
      "outputs": [],
      "execution_count": null
    }
  ]
}